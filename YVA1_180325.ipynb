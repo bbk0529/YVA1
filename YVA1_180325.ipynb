{
 "cells": [
  {
   "cell_type": "code",
   "execution_count": 1,
   "metadata": {},
   "outputs": [],
   "source": [
    "import datetime\n",
    "import pandas as pd\n",
    "import numpy as np\n",
    "import matplotlib.pyplot as plot"
   ]
  },
  {
   "cell_type": "code",
   "execution_count": 2,
   "metadata": {},
   "outputs": [],
   "source": [
    "def fileRead(filename) :\n",
    "    items=[]\n",
    "    item=[]\n",
    "    count=0\n",
    "    toggle=False\n",
    "\n",
    "    with open(filename,\"r\", encoding=\"UTF-8\") as file:\n",
    "    #with open(filename,\"r\", encoding=\"ISO-8859-1\") as file:\n",
    "        line=file.readline()\n",
    "        line=file.readline()\n",
    "        while line.find('*****')<0:\n",
    "            line=file.readline()\n",
    "            \n",
    "            if line.find(\"Seite\") >0 :line=file.readline();continue\n",
    "            \n",
    "            if line[0]=='-':  count +=1                       \n",
    "            \n",
    "            if line[0]=='|'  or  line.count('Ident-code'):\n",
    "                item.append(line)\n",
    "                \n",
    "            if (line[0]=='-' and item!=[] and count%2==1) :\n",
    "            #if (line[0]=='-' and item!=[] and count%2==1) or  line.find(\"*****\")>0 :\n",
    "                items.append(item)\n",
    "                item=[]\n",
    "                toggle=False\n",
    "    items.append(item)    \n",
    "    return items"
   ]
  },
  {
   "cell_type": "code",
   "execution_count": 37,
   "metadata": {
    "scrolled": true
   },
   "outputs": [],
   "source": [
    "def itemsParsing(items) :\n",
    "    STATUS={\n",
    "            \"ERO\" : \"Not Planned, not started. May have missing parts\", \n",
    "            \"FREI\" : \"No missing part, production order free\", \n",
    "            \"TRÜC\": \"1 level of a 2 level produciton has been finished\", \n",
    "            \"RÜCK\" : \"Production finished, on the way to CSC\", \n",
    "            \"GLFT\" : \"Delivered to CSC\",\n",
    "            \"LOE\" : \"P Order Deleted/Finished\",\n",
    "            \"\" : \"UNKNOWN\"\n",
    "    }\n",
    "    TotalList=[]\n",
    "    SumList=[]\n",
    "\n",
    "    #For each items \n",
    "    for row in range(1,len(items)) :\n",
    "        stored=''\n",
    "        n=len(items[row])\n",
    "        \n",
    "        if str(items[row]).find(\"stored in\")>0 : \n",
    "            n=n-1\n",
    "            stored=items[row][-2][76:91].strip()\n",
    "        \n",
    "        status=items[row][0][91:95].strip()\n",
    "        so=items[row][2][26:36]\n",
    "        no=int(items[row][0][1:5].strip())\n",
    "        partno=items[row][0][14:22]\n",
    "        config=items[row][-1][36:80].strip() if items[row][-1][36:80].count(\"-\")>3 else items[1][0][23:62].strip()\n",
    "\n",
    "        #Each records of each Items Parsing\n",
    "        T1=0;T2=0;T3=0;T4=0\n",
    "        if str(items[row]).find(\"Ident\")>0 : n-=1\n",
    "        for i in range(2,n) :\n",
    "            t=items[row][i]\n",
    "\n",
    "            if t[11:19].find(\".\")>0 :\n",
    "                d1=datetime.datetime.strptime(t[11:19],  \"%y.%m.%d\").date()\n",
    "\n",
    "            if t[35:46].find(\".\")>0 :\n",
    "                d2=datetime.datetime.strptime(t[38:46],  \"%y.%m.%d\").date() \n",
    "                eta=d2\n",
    "\n",
    "            if t[85:93].find(\".\")>0 and t[85:93].find(\"00.00.00\")==-1: \n",
    "                d3=datetime.datetime.strptime(t[85:93],  \"%y.%m.%d\").date()\n",
    "            \n",
    "            if t[116:124].find(\".\")>0 : \n",
    "                d4=datetime.datetime.strptime(t[116:124],  \"%y.%m.%d\").date()\n",
    "            \n",
    "            t1=0;t2=0;t3=0;t4=0\n",
    "            if t[22:25].strip()!='' : \n",
    "                t1=int(t[22:25])\n",
    "                T1+=int(t1)    \n",
    "            \n",
    "            if t[49:52].strip()!='' : \n",
    "                t2=int(t[49:52]) \n",
    "                T2+=int(t2)    \n",
    "\n",
    "            if t[96:99].strip() !=\"\" and t[96:99].find(\"ED\")==-1 : \n",
    "                t3=int(t[96:99]);\n",
    "                T3+=t3\n",
    "                \n",
    "            if t[127:130].strip() !=\"\" and t[127:130].find(\"|\")==-1 : \n",
    "                t4=int(t[127:130]);\n",
    "                T4+=t4\n",
    "\n",
    "            #Invoice#     \n",
    "            reference=t[-31:-23].strip()\n",
    "\n",
    "            #A single row created here\n",
    "            TotalList.append([so+ str(no), d1,t1,d2,t2,d3,t3,d4,t4,reference])\n",
    "\n",
    "        delta=T1-T4\n",
    "        reference=''\n",
    "        if delta==0:\n",
    "            etd=TotalList[-1][-3]\n",
    "            REMARK=\"Invoiced\"\n",
    "            reference=items[row][-2][-31:-23]\n",
    "        else :\n",
    "            REMARK=STATUS[status]\n",
    "\n",
    "        partial=\"Partial\" if delta>0 and T1>delta else ''\n",
    "        SumList.append([so+ str(no), partno, config, T1,T2,T3,T4, delta, stored, etd, eta, status,REMARK, reference, partial])\n",
    "\n",
    "    return TotalList, SumList, \n"
   ]
  },
  {
   "cell_type": "code",
   "execution_count": 38,
   "metadata": {},
   "outputs": [],
   "source": [
    "def detailDF (conDF, list) :\n",
    "    print(\"detailDF() called\")\n",
    "    DF=pd.DataFrame([], columns=[\"d1\", \"t1\", \"d2\", \"t2\", \"d3\",\"t3\", \"d4\", \"t4\", \"reference\"])\n",
    "\n",
    "    for i in list:\n",
    "        print (i)\n",
    "        DF=pd.concat([DF, pd.DataFrame(conDF.loc[i], columns=[\"d1\", \"t1\", \"d2\", \"t2\", \"d3\",\"t3\", \"d4\", \"t4\", \"reference\"])])\n",
    "        #partialDF=pd.concat([partialDF, pd.DataFrame(conDF.loc[i])])\n",
    "    return DF\n",
    "\n"
   ]
  },
  {
   "cell_type": "code",
   "execution_count": 39,
   "metadata": {},
   "outputs": [],
   "source": [
    "def mergeDF (filelist) :\n",
    "    colDF=[\"idx\", \"d1\", \"t1\", \"d2\", \"t2\", \"d3\",\"t3\", \"d4\", \"t4\", \"reference\"]\n",
    "    colSUM=[\"idx\", \"partno\", \"config\",\"T1\",\"T2\",\"T3\",\"T4\",\"△\",\"Stored\", \"ETD\", \"ETA\", \"Status\", \"Remark\", \"Ref#\", \"Partial\"]\n",
    "    conDF=pd.DataFrame([], columns=colDF)\n",
    "    conSUM=pd.DataFrame([], columns=colSUM)\n",
    "\n",
    "    for file in filelist :\n",
    "        print (file, \"read to be parsed.... \")\n",
    "        items=fileRead(file)\n",
    "        TotalList, SumList = itemsParsing(items)\n",
    "\n",
    "        conDF=pd.concat([conDF,pd.DataFrame(TotalList, columns=colDF)])\n",
    "        conSUM=pd.concat([conSUM,pd.DataFrame(SumList, columns=colSUM)])\n",
    "\n",
    "    conDF=pd.DataFrame(conDF, columns=colDF)                         \n",
    "    conSUM=pd.DataFrame(conSUM, columns=colSUM)\n",
    "    conDF=conDF.set_index(\"idx\")\n",
    "    conSUM=conSUM.set_index(\"idx\")\n",
    "    partialDF = detailDF(conDF, conSUM[conSUM.Partial=='Partial'].index)\n",
    "    \n",
    "    return conDF, conSUM, partialDF\n"
   ]
  },
  {
   "cell_type": "code",
   "execution_count": 42,
   "metadata": {
    "scrolled": true
   },
   "outputs": [
    {
     "name": "stdout",
     "output_type": "stream",
     "text": [
      "2018425056.txt read to be parsed.... \n",
      "2018425057.txt read to be parsed.... \n",
      "2018425058.txt read to be parsed.... \n",
      "detailDF() called\n",
      "201842505680\n",
      "2018425056110\n",
      "201842505780\n",
      "2018425057110\n",
      "201842505880\n",
      "2018425058110\n"
     ]
    }
   ],
   "source": [
    "filelist=[]\n",
    "f=open(\"YVA1list.txt\",\"r\", encoding=\"UTF-8\")\n",
    "for line in f :\n",
    "    filelist.append(line.splitlines()[0])\n",
    "\n",
    "DF,SUM,PARTIAL = mergeDF(filelist)"
   ]
  },
  {
   "cell_type": "code",
   "execution_count": 43,
   "metadata": {},
   "outputs": [],
   "source": [
    "#To save excel file \n",
    "writer=pd.ExcelWriter('output.xlsx')\n",
    "SUM.to_excel(writer,'SUM')\n",
    "DF.to_excel(writer,'DF')\n",
    "PARTIAL.to_excel(writer,'PARTIAL')\n",
    "writer.save()"
   ]
  },
  {
   "cell_type": "markdown",
   "metadata": {},
   "source": [
    "#Read Excel file \n",
    "exl=pd.read_excel('Book1.xlsx', converters={'item#':str,'part#':str, 'deliverydate':pd.to_datetime})\n",
    "#https://stackoverflow.com/questions/32591466/python-pandas-how-to-specify-data-types-when-reading-an-excel-file"
   ]
  },
  {
   "cell_type": "markdown",
   "metadata": {},
   "source": [
    "lines= f.readlines()"
   ]
  },
  {
   "cell_type": "markdown",
   "metadata": {},
   "source": [
    "parse_flag=False\n",
    "total=[]\n",
    "\n",
    "for i in lines:\n",
    "    if i[0]=='-':\n",
    "        parse_flag=True\n",
    "        continue\n",
    "    if parse_flag==True and i[0]=='|':\n",
    "        \n",
    "        line=i.split()\n",
    "        item=line[1];  so=line[2];\n",
    "        newdate=datetime.datetime.strptime(line[3],  \"%Y-%m-%d\")\n",
    "       \n",
    "        delta=(newdate-datetime.datetime.now()).days\n",
    "        \n",
    "        single=[item, so, newdate, delta]\n",
    "        total.append(single)\n",
    "        parse_flag=False\n",
    "    \n",
    "df=pd.DataFrame(total)"
   ]
  },
  {
   "cell_type": "markdown",
   "metadata": {},
   "source": [
    "#ID created for comparision and merge\n",
    "df['id']=df[1] + df[0]\n",
    "exl['id']=exl['part#'] + exl['item#']"
   ]
  },
  {
   "cell_type": "markdown",
   "metadata": {},
   "source": [
    "kk=df.merge(exl)"
   ]
  },
  {
   "cell_type": "markdown",
   "metadata": {
    "scrolled": true
   },
   "source": [
    "kk['delta']=kk['deliverydate'] - kk[2]"
   ]
  },
  {
   "cell_type": "markdown",
   "metadata": {},
   "source": [
    "#To save excel file \n",
    "writer=pd.ExcelWriter('output.xlsx')\n",
    "kk.to_excel(writer,'Sheet1')\n",
    "writer.save()"
   ]
  },
  {
   "cell_type": "markdown",
   "metadata": {},
   "source": []
  }
 ],
 "metadata": {
  "kernelspec": {
   "display_name": "Python 3",
   "language": "python",
   "name": "python3"
  },
  "language_info": {
   "codemirror_mode": {
    "name": "ipython",
    "version": 3
   },
   "file_extension": ".py",
   "mimetype": "text/x-python",
   "name": "python",
   "nbconvert_exporter": "python",
   "pygments_lexer": "ipython3",
   "version": "3.6.4"
  }
 },
 "nbformat": 4,
 "nbformat_minor": 2
}
