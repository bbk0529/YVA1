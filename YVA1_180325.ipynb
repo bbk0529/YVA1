{
 "cells": [
  {
   "cell_type": "code",
   "execution_count": 1,
   "metadata": {},
   "outputs": [],
   "source": [
    "import datetime\n",
    "import pandas as pd\n",
    "import numpy as np\n",
    "import matplotlib.pyplot as plot\n",
    "#%matplotlib inline"
   ]
  },
  {
   "cell_type": "code",
   "execution_count": 2,
   "metadata": {},
   "outputs": [],
   "source": [
    "def fileRead(filename) :\n",
    "    items=[]\n",
    "    item=[]\n",
    "    toggle=False\n",
    "\n",
    "    with open(filename,\"r\", encoding=\"UTF-8\") as file:\n",
    "        line=file.readline()\n",
    "        while line.find('*****')<0:\n",
    "            line=file.readline()\n",
    "            if line[0]=='-' and toggle==False:\n",
    "                toggle=True\n",
    "                continue\n",
    "\n",
    "            if toggle==True:\n",
    "                if line[0]=='|' : \n",
    "                    item.append(line)\n",
    "                    continue\n",
    "\n",
    "                if line.count('Ident-code') or line.count('Req.'):    \n",
    "                    item.append(line)\n",
    "                    items.append(item)\n",
    "                    toggle=False\n",
    "                    item=[]\n",
    "                    continue\n",
    "    return items"
   ]
  },
  {
   "cell_type": "code",
   "execution_count": 3,
   "metadata": {
    "scrolled": true
   },
   "outputs": [],
   "source": [
    "def itemsParsing(items) :\n",
    "    STATUS={\n",
    "            \"ERO\" : \"Not Planned\", \n",
    "            \"FREI\" : \"P Planned\", \n",
    "            \"TRÜC\":\"P  in progress\", \n",
    "            \"RÜCK\" : \"P completed\", \n",
    "            \"GLFT\" : \"Packed and Standby\",\n",
    "            \"LOE\" : \"DELIVERED\",\n",
    "            \"\" : \"UNKNOWN\"\n",
    "    }\n",
    "\n",
    "    TotalList=[]\n",
    "    SumList=[]\n",
    "\n",
    "    for row in range(1,len(items)) :\n",
    "        stored='-'\n",
    "        n=len(items[row])\n",
    "        if str(items[row]).find(\"stored in\")>0 : \n",
    "            n=n-1\n",
    "            stored=items[row][-2][76:91].strip()\n",
    "\n",
    "        status=items[row][0][91:95].strip()\n",
    "\n",
    "\n",
    "        T1=0;T2=0;T3=0;T4=0\n",
    "        so=items[row][2][26:36]\n",
    "        no=int(items[row][0][1:5].strip())\n",
    "        partno=items[row][0][14:22]\n",
    "        config=items[row][-1][36:80].strip()\n",
    "\n",
    "        #SUM \n",
    "        for i in range(2,n-1) :\n",
    "            t=items[row][i]\n",
    "\n",
    "            d1=datetime.datetime.strptime(t[11:19],  \"%y.%m.%d\").date() if t[11:19].find(\".\")>0 else ''\n",
    "            d2=datetime.datetime.strptime(t[38:46],  \"%y.%m.%d\").date() if t[35:46].find(\".\")>0 else ''\n",
    "            d3=datetime.datetime.strptime(t[85:93],  \"%y.%m.%d\").date() if t[85:93].find(\".\")>0 else ''\n",
    "            d4=datetime.datetime.strptime(t[116:124],  \"%y.%m.%d\").date() if t[116:124].find(\".\")>0 else ''\n",
    "            t1=0;t2=0;t3=0;t4=0\n",
    "            t1=int(t[22:25]) if t[22:25].strip()!='' else 0; T1+=int(t1)    \n",
    "            t2=int(t[49:52]) if t[49:52].strip()!='' else 0; T2+=int(t2)    \n",
    "\n",
    "            if t[96:99].strip() !=\"\" and t[96:99].find(\"ED\")==-1 : t3=int(t[96:99]);T3+=t3\n",
    "            if t[127:130].strip() !=\"\" and t[127:130].find(\"|\")==-1 : t4=int(t[127:130]);T4+=t4\n",
    "\n",
    "            #Invoice#     \n",
    "            reference=t[-31:-23].strip()\n",
    "            \n",
    "            #A single row created here\n",
    "            \n",
    "            TotalList.append([so+ str(no), d1,t1,d2,t2,d3,t3,d4,t4,reference])\n",
    "\n",
    "\n",
    "        delta=T1-T4    \n",
    "        reference=''\n",
    "        if delta==0:\n",
    "            etd=TotalList[-1][-3]\n",
    "\n",
    "            REMARK=\"Invoiced\"\n",
    "            reference=items[row][-2][-31:-23]\n",
    "        else :\n",
    "            etd=''\n",
    "            REMARK=STATUS[status]\n",
    "\n",
    "        partial=\"Partial\" if delta>0 and T1>delta else ''\n",
    "\n",
    "        SumList.append([so+ str(no), partno, config, T1,T2,T3,T4, delta, stored, etd, status,REMARK, reference, partial])\n",
    "    return TotalList, SumList, \n",
    "\n",
    "    "
   ]
  },
  {
   "cell_type": "code",
   "execution_count": 7,
   "metadata": {},
   "outputs": [],
   "source": [
    "def detailDF (conDF, list) :\n",
    "    print(\"detailDF() called\")\n",
    "    DF=pd.DataFrame([], columns=[\"d1\", \"t1\", \"d2\", \"t2\", \"d3\",\"t3\", \"d4\", \"t4\", \"reference\"])\n",
    "\n",
    "    for i in list:\n",
    "        print (i)\n",
    "        DF=pd.concat([DF, pd.DataFrame(conDF.loc[i], columns=[\"d1\", \"t1\", \"d2\", \"t2\", \"d3\",\"t3\", \"d4\", \"t4\", \"reference\"])])\n",
    "        #partialDF=pd.concat([partialDF, pd.DataFrame(conDF.loc[i])])\n",
    "    return DF"
   ]
  },
  {
   "cell_type": "code",
   "execution_count": 8,
   "metadata": {},
   "outputs": [],
   "source": [
    "\n",
    "def mergeDF (filelist) :\n",
    "    conDF=pd.DataFrame([], columns=[\"idx\", \"d1\", \"t1\", \"d2\", \"t2\", \"d3\",\"t3\", \"d4\", \"t4\", \"reference\"])\n",
    "    conSUM=pd.DataFrame([], columns=[\"idx\", \"partno\", \"config\",\"T1\",\"T2\",\"T3\",\"T4\",\"△\",\"Stored\", \"ETD\", \"Status\", \"Remark\", \"Ref#\", \"Partial\"])\n",
    "\n",
    "    #conDF=pd.DataFrame([])\n",
    "    #conSUM=pd.DataFrame([])\n",
    "\n",
    "    for file in filelist :\n",
    "        print (file, \"read for parsing\")\n",
    "        items=fileRead(file)\n",
    "        TotalList, SumList = itemsParsing(items)\n",
    "\n",
    "        #DF=pd.DataFrame(TotalList, columns=[\"idx\", \"d1\", \"t1\", \"d2\", \"t2\", \"d3\",\"t3\", \"d4\", \"t4\", \"reference\"])                         \n",
    "        #SUM=pd.DataFrame(SumList, columns=[\"idx\", \"partno\", \"config\",\"T1\",\"T2\",\"T3\",\"T4\",\"△\",\"Stored\", \"ETD\", \"Status\", \"Remark\", \"Ref#\", \"Partial\"])\n",
    "        conDF=pd.concat([conDF,pd.DataFrame(TotalList, columns=[\"idx\", \"d1\", \"t1\", \"d2\", \"t2\", \"d3\",\"t3\", \"d4\", \"t4\", \"reference\"])])\n",
    "        conSUM=pd.concat([conSUM,pd.DataFrame(SumList, columns=[\"idx\", \"partno\", \"config\",\"T1\",\"T2\",\"T3\",\"T4\",\"△\",\"Stored\", \"ETD\", \"Status\", \"Remark\", \"Ref#\", \"Partial\"])])\n",
    "\n",
    "    conDF=pd.DataFrame(conDF, columns=[\"idx\", \"d1\", \"t1\", \"d2\", \"t2\", \"d3\",\"t3\", \"d4\", \"t4\", \"reference\"])                         \n",
    "    conSUM=pd.DataFrame(conSUM, columns=[\"idx\", \"partno\", \"config\",\"T1\",\"T2\",\"T3\",\"T4\",\"△\",\"Stored\", \"ETD\", \"Status\", \"Remark\", \"Ref#\", \"Partial\"])\n",
    "    conDF=conDF.set_index(\"idx\")\n",
    "    conSUM=conSUM.set_index(\"idx\")\n",
    "    partialDF = detailDF(conDF, conSUM[conSUM.Partial=='Partial'].index)\n",
    "    \n",
    "    return conDF, conSUM, partialDF"
   ]
  },
  {
   "cell_type": "code",
   "execution_count": 11,
   "metadata": {
    "scrolled": false
   },
   "outputs": [
    {
     "name": "stdout",
     "output_type": "stream",
     "text": [
      "2018425056 read for parsing\n",
      "2018425057 read for parsing\n",
      "detailDF() called\n",
      "201842505680\n",
      "2018425056110\n",
      "201842505780\n",
      "2018425057110\n"
     ]
    }
   ],
   "source": [
    "filelist=[]\n",
    "f=open(\"YVA1list.txt\",\"r\", encoding=\"UTF-8\")\n",
    "for line in f :\n",
    "    filelist.append(line.splitlines()[0])\n",
    "\n",
    "DF,SUM,PARTIAL = mergeDF(filelist)"
   ]
  },
  {
   "cell_type": "code",
   "execution_count": 144,
   "metadata": {},
   "outputs": [],
   "source": [
    "#To save excel file \n",
    "writer=pd.ExcelWriter('output.xlsx')\n",
    "SUM.to_excel(writer,'SUM')\n",
    "DF.to_excel(writer,'DF')\n",
    "PARTIAL.to_excel(writer,'PARTIAL')\n",
    "writer.save()"
   ]
  },
  {
   "cell_type": "markdown",
   "metadata": {},
   "source": [
    "#Read Excel file \n",
    "exl=pd.read_excel('Book1.xlsx', converters={'item#':str,'part#':str, 'deliverydate':pd.to_datetime})\n",
    "#https://stackoverflow.com/questions/32591466/python-pandas-how-to-specify-data-types-when-reading-an-excel-file"
   ]
  },
  {
   "cell_type": "markdown",
   "metadata": {},
   "source": [
    "lines= f.readlines()"
   ]
  },
  {
   "cell_type": "markdown",
   "metadata": {},
   "source": [
    "parse_flag=False\n",
    "total=[]\n",
    "\n",
    "for i in lines:\n",
    "    if i[0]=='-':\n",
    "        parse_flag=True\n",
    "        continue\n",
    "    if parse_flag==True and i[0]=='|':\n",
    "        \n",
    "        line=i.split()\n",
    "        item=line[1];  so=line[2];\n",
    "        newdate=datetime.datetime.strptime(line[3],  \"%Y-%m-%d\")\n",
    "       \n",
    "        delta=(newdate-datetime.datetime.now()).days\n",
    "        \n",
    "        single=[item, so, newdate, delta]\n",
    "        total.append(single)\n",
    "        parse_flag=False\n",
    "    \n",
    "df=pd.DataFrame(total)"
   ]
  },
  {
   "cell_type": "markdown",
   "metadata": {},
   "source": [
    "#ID created for comparision and merge\n",
    "df['id']=df[1] + df[0]\n",
    "exl['id']=exl['part#'] + exl['item#']"
   ]
  },
  {
   "cell_type": "markdown",
   "metadata": {},
   "source": [
    "kk=df.merge(exl)"
   ]
  },
  {
   "cell_type": "markdown",
   "metadata": {
    "scrolled": true
   },
   "source": [
    "kk['delta']=kk['deliverydate'] - kk[2]"
   ]
  },
  {
   "cell_type": "markdown",
   "metadata": {},
   "source": [
    "#To save excel file \n",
    "writer=pd.ExcelWriter('output.xlsx')\n",
    "kk.to_excel(writer,'Sheet1')\n",
    "writer.save()"
   ]
  },
  {
   "cell_type": "markdown",
   "metadata": {},
   "source": []
  }
 ],
 "metadata": {
  "kernelspec": {
   "display_name": "Python 3",
   "language": "python",
   "name": "python3"
  },
  "language_info": {
   "codemirror_mode": {
    "name": "ipython",
    "version": 3
   },
   "file_extension": ".py",
   "mimetype": "text/x-python",
   "name": "python",
   "nbconvert_exporter": "python",
   "pygments_lexer": "ipython3",
   "version": "3.6.4"
  }
 },
 "nbformat": 4,
 "nbformat_minor": 2
}
