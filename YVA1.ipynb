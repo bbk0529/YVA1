{
 "cells": [
  {
   "cell_type": "code",
   "execution_count": 360,
   "metadata": {},
   "outputs": [],
   "source": [
    "import datetime\n",
    "import pandas as pd\n",
    "import numpy as np\n",
    "import matplotlib.pyplot as plot\n",
    "%matplotlib inline"
   ]
  },
  {
   "cell_type": "code",
   "execution_count": 361,
   "metadata": {},
   "outputs": [],
   "source": [
    "#Read text file created from SAP\n",
    "f=open(\"yva1.txt\",\"r\")"
   ]
  },
  {
   "cell_type": "code",
   "execution_count": 362,
   "metadata": {},
   "outputs": [],
   "source": [
    "#Read Excel file \n",
    "exl=pd.read_excel('Book1.xlsx', converters={'item#':str,'part#':str, 'deliverydate':pd.to_datetime})\n",
    "#https://stackoverflow.com/questions/32591466/python-pandas-how-to-specify-data-types-when-reading-an-excel-file"
   ]
  },
  {
   "cell_type": "code",
   "execution_count": 363,
   "metadata": {},
   "outputs": [],
   "source": [
    "lines= f.readlines()"
   ]
  },
  {
   "cell_type": "code",
   "execution_count": 364,
   "metadata": {},
   "outputs": [],
   "source": [
    "parse_flag=False\n",
    "total=[]\n",
    "\n",
    "for i in lines:\n",
    "    if i[0]=='-':\n",
    "        parse_flag=True\n",
    "        continue\n",
    "    if parse_flag==True and i[0]=='|':\n",
    "        \n",
    "        line=i.split()\n",
    "        item=line[1];  so=line[2];\n",
    "        newdate=datetime.datetime.strptime(line[3],  \"%Y-%m-%d\")\n",
    "       \n",
    "        delta=(newdate-datetime.datetime.now()).days\n",
    "        \n",
    "        single=[item, so, newdate, delta]\n",
    "        total.append(single)\n",
    "        parse_flag=False\n",
    "    \n",
    "df=pd.DataFrame(total)"
   ]
  },
  {
   "cell_type": "code",
   "execution_count": 365,
   "metadata": {},
   "outputs": [],
   "source": [
    "#ID created for comparision and merge\n",
    "df['id']=df[1] + df[0]\n",
    "exl['id']=exl['part#'] + exl['item#']"
   ]
  },
  {
   "cell_type": "code",
   "execution_count": 366,
   "metadata": {},
   "outputs": [],
   "source": [
    "kk=df.merge(exl)"
   ]
  },
  {
   "cell_type": "code",
   "execution_count": 369,
   "metadata": {
    "scrolled": true
   },
   "outputs": [],
   "source": [
    "kk['delta']=kk['deliverydate'] - kk[2]"
   ]
  },
  {
   "cell_type": "code",
   "execution_count": 373,
   "metadata": {},
   "outputs": [],
   "source": [
    "#To save excel file \n",
    "writer=pd.ExcelWriter('output.xlsx')\n",
    "kk.to_excel(writer,'Sheet1')\n",
    "writer.save()"
   ]
  },
  {
   "cell_type": "code",
   "execution_count": null,
   "metadata": {},
   "outputs": [],
   "source": []
  }
 ],
 "metadata": {
  "kernelspec": {
   "display_name": "Python 3",
   "language": "python",
   "name": "python3"
  },
  "language_info": {
   "codemirror_mode": {
    "name": "ipython",
    "version": 3
   },
   "file_extension": ".py",
   "mimetype": "text/x-python",
   "name": "python",
   "nbconvert_exporter": "python",
   "pygments_lexer": "ipython3",
   "version": "3.6.4"
  }
 },
 "nbformat": 4,
 "nbformat_minor": 2
}
