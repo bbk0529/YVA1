{
 "cells": [
  {
   "cell_type": "code",
   "execution_count": 23,
   "metadata": {},
   "outputs": [],
   "source": [
    "import datetime\n",
    "import pandas as pd\n",
    "import numpy as np\n",
    "import matplotlib.pyplot as plot\n",
    "import mysql.connector\n",
    "import time\n"
   ]
  },
  {
   "cell_type": "markdown",
   "metadata": {},
   "source": [
    "# test"
   ]
  },
  {
   "cell_type": "code",
   "execution_count": 57,
   "metadata": {},
   "outputs": [],
   "source": [
    "items, po, so = fileRead(\"2018692836\")"
   ]
  },
  {
   "cell_type": "code",
   "execution_count": 58,
   "metadata": {},
   "outputs": [
    {
     "data": {
      "text/plain": [
       "'|         |              |                                  |28 0001 1778442624/90   18/06/01     1|  20955170/20   18/06/01     1 |\\n'"
      ]
     },
     "execution_count": 58,
     "metadata": {},
     "output_type": "execute_result"
    }
   ],
   "source": [
    "items[9][-3]"
   ]
  },
  {
   "cell_type": "code",
   "execution_count": 59,
   "metadata": {},
   "outputs": [],
   "source": [
    "a, b = itemsParsing(items,po,so)"
   ]
  },
  {
   "cell_type": "code",
   "execution_count": 60,
   "metadata": {},
   "outputs": [
    {
     "data": {
      "text/plain": [
       "['2018692836',\n",
       " '90',\n",
       " '4601976690',\n",
       " '9',\n",
       " '201869283690',\n",
       " '556825',\n",
       " 'EGC-HD-220-1080-TB-0H-GP',\n",
       " 1,\n",
       " 1,\n",
       " 1,\n",
       " 1,\n",
       " 0,\n",
       " '1 fr. 18/05/30',\n",
       " None,\n",
       " None,\n",
       " 'GLFT',\n",
       " 'Invoiced 20955170',\n",
       " '20955170',\n",
       " '']"
      ]
     },
     "execution_count": 60,
     "metadata": {},
     "output_type": "execute_result"
    }
   ],
   "source": [
    "b[8]"
   ]
  },
  {
   "cell_type": "code",
   "execution_count": null,
   "metadata": {},
   "outputs": [],
   "source": []
  },
  {
   "cell_type": "code",
   "execution_count": 43,
   "metadata": {},
   "outputs": [],
   "source": [
    "STATUS={\n",
    "            \"PLAF\" : \"Plan order, created automatically after the order has been created\", \n",
    "\t\t\t\"ERO\" : \"Not Planned, not started. May have missing parts\", \n",
    "            \"FREI\" : \"No missing part, production order free\", \n",
    "            \"TRÜC\": \"1 level of a 2 level produciton has been finished\", \n",
    "            \"RÜCK\" : \"Production finished, on the way to CSC\", \n",
    "            \"GLFT\" : \"Delivered to CSC\",\n",
    "            \"LOE\" : \"P Order Deleted/Finished\",\n",
    "            \"TGLI\" : \"Partical delivery, the production order has been splitted and partical delivered\",\n",
    "            \"\" : \"UNKNOWN\"\n",
    "    }"
   ]
  },
  {
   "cell_type": "code",
   "execution_count": 36,
   "metadata": {},
   "outputs": [],
   "source": [
    "def fileRead(filename) :\n",
    "    items=[]\n",
    "    item=[]\n",
    "    count=0\n",
    "    toggle=False\n",
    "\n",
    "    #with open(filename,\"r\", encoding=\"UTF-8\") as file:\n",
    "    with open(filename,\"r\", encoding=\"ISO-8859-1\") as file:\n",
    "        for i in range(6) :\n",
    "            line=file.readline()\n",
    "        line=file.readline()\n",
    "        so=line.split()[5]\n",
    "        po=line.split()[8]\n",
    "        while line.find('*****')<0:\n",
    "            line=file.readline()\n",
    "            \n",
    "            if line.find(\"Seite\") >0 :line=file.readline();continue\n",
    "            \n",
    "            if line[0]=='-':  count +=1                       \n",
    "            \n",
    "            if line[0]=='|'  or  line.count('Ident-code'):\n",
    "                item.append(line)\n",
    "                \n",
    "            if (line[0]=='-' and item!=[] and count%2==1) :\n",
    "            #if (line[0]=='-' and item!=[] and count%2==1) or  line.find(\"*****\")>0 :\n",
    "                items.append(item)\n",
    "                item=[]\n",
    "                toggle=False\n",
    "    items.append(item)    \n",
    "    return items, so, po"
   ]
  },
  {
   "cell_type": "code",
   "execution_count": 152,
   "metadata": {},
   "outputs": [],
   "source": [
    "def ticketRead(filename) :\n",
    "    tickets=[]\n",
    "    ticket=[]    \n",
    "    \n",
    "    with open(filename,\"r\", encoding=\"ISO-8859-1\") as file:\n",
    "        for i in range(6) :\n",
    "            line=file.readline()\n",
    "        line=file.readline()\n",
    "        so=line.split()[5]\n",
    "        po=line.split()[8]\n",
    "        while line.find('*****')<0:\n",
    "            #print(line.find('*****'))\n",
    "            line=file.readline()\n",
    "            if (line.count(\"|\")==15):                \n",
    "                posNum=line.split(\"|\")[1].strip()                                                            \n",
    "            if (line.count(\"Terminreklamation\") or line.count(\"Top Priority\")) :                \n",
    "                line=line.replace(\"Top Priority\", \"TopPriority\")\n",
    "                line=line.replace(\"fr.\", \"\")\n",
    "                \n",
    "                ticket=[so] + [posNum] +  line.split()\n",
    "                \n",
    "                tickets.append(ticket)\n",
    "        return tickets\n",
    "\n",
    "ticketHeader=[\"so\",\"pos\",\"no\",\"type\",\"issuedDate\",\"IssuedTime\",\"Initiator\",\"responseDate\",\"responseTime\"]"
   ]
  },
  {
   "cell_type": "code",
   "execution_count": 175,
   "metadata": {},
   "outputs": [],
   "source": [
    "def ticketsToDataFrame(filelist) :\n",
    "    conTIckets=[]\n",
    "    for file in filelist :\n",
    "        tickets=ticketRead(file)\n",
    "        conTIckets=conTIckets+tickets\n",
    "    conTIckets=pd.DataFrame(conTIckets, columns=ticketHeader)\n",
    "    return conTIckets\n",
    "\n"
   ]
  },
  {
   "cell_type": "code",
   "execution_count": 56,
   "metadata": {},
   "outputs": [],
   "source": [
    "def itemsParsing(items, so, po) :\n",
    "    \n",
    "    TotalList=[]\n",
    "    SumList=[]\n",
    "    #For each items \n",
    "    start=1    \n",
    "    #skip the info rows\n",
    "    if str(items).find(\"Ship-to party \")>0 :\n",
    "        start= start +1        \n",
    "        print(\"skipped ship-to-party\", start)\n",
    "    \n",
    "    #skip the info rows\n",
    "    if str(items).find(\"|internal notice\")>0 :\n",
    "        start= start +1\n",
    "        print(\"skipped internal notice\", start)\n",
    "    \n",
    "    for row in range(start,len(items)) :\n",
    "        stored=None\n",
    "        n=len(items[row])\n",
    "        \n",
    "        if str(items[row]).find(\"stored in\")>0 : \n",
    "            n=n-1\n",
    "            stored=items[row][-2][76:91].strip()\n",
    "        \n",
    "        status=items[row][0][91:95].strip()                   \n",
    "        no=int(items[row][0][1:5].strip())\n",
    "        partno=items[row][0][14:22].strip()\n",
    "        config=items[row][-1][36:80].strip() if items[row][-1][36:80].count(\"-\")>3 else items[1][0][23:62].strip()\n",
    "        \n",
    "        #Each records of each Items Parsing\n",
    "        T1=0;T2=0;T3=0;T4=0\n",
    "        if str(items[row]).find(\"Ident\")>0 : n-=1\n",
    "        \n",
    "        soidx=items[row][0][1:5]\n",
    "        poidx=items[row][1][1:5]\n",
    "        d1=None\n",
    "        d2=None\n",
    "        d3=None\n",
    "        d4=None\n",
    "        eta=None\n",
    "        for i in range(2,n) :\n",
    "            t=items[row][i]\n",
    "\n",
    "            if t[11:19].find(\".\")>0 :d1=t[11:19]              \n",
    "            if t[35:46].find(\".\")>0 : d2=t[38:46]; eta=d2\n",
    "            if t[85:93].find(\".\")>0 and t[85:93].find(\"00.00.00\")==-1: d3=t[85:93]                            \n",
    "            if t[116:124].find(\".\")>0 : d4=t[116:124]\n",
    "                \n",
    "\t\t\t\t\n",
    "            t1=0;t2=0;t3=0;t4=0\n",
    "            if t[22:25].strip()!='' : \n",
    "                t1=int(t[22:25])\n",
    "                T1+=int(t1)    \n",
    "            \n",
    "            if t[49:52].strip()!='' : \n",
    "                t2=int(t[49:52]) \n",
    "                T2+=int(t2)    \n",
    "\n",
    "            if t[96:99].strip() !=\"\" and t[96:99].find(\"ED\")==-1 : \n",
    "                t3=int(t[96:99]);\n",
    "                T3+=t3\n",
    "                \n",
    "            if t[127:130].strip() !=\"\" and t[127:130].find(\"|\")==-1 : \n",
    "                t4=int(t[127:130]);\n",
    "                T4+=t4\n",
    "\n",
    "            #Invoice#     \n",
    "            reference=t[-31:-23].strip()\n",
    "\n",
    "            #A single row created here\n",
    "            TotalList.append([so, soidx.strip(), po, poidx.strip(), (so+ str(no)).strip(), d1,t1,d2,t2,d3,t3,d4,t4,reference])\n",
    "\n",
    "        delta=T1-T4\n",
    "        reference=\"\"\n",
    "        if delta==0:\n",
    "            etd=TotalList[-1][-3]\n",
    "            REMARK=\"Invoiced\"\n",
    "            if items[row][-2].count(\"stored in\") : \n",
    "                reference=items[row][-3][-31:-23]    \n",
    "            else : \n",
    "                reference=items[row][-2][-31:-23]    \n",
    "            \n",
    "        else :\n",
    "            REMARK=STATUS[status]\n",
    "            etd=None\n",
    "\n",
    "        partial=\"Partial\" if delta>0 and T1>delta else ''\n",
    "        SumList.append([so, soidx.strip(), po, poidx.strip(), (so+ str(no)).strip(), partno, config, T1,T2,T3,T4, delta, stored, etd, eta, status,REMARK + \" \" + reference, reference, partial])\n",
    "\n",
    "    return TotalList, SumList "
   ]
  },
  {
   "cell_type": "code",
   "execution_count": 22,
   "metadata": {},
   "outputs": [],
   "source": [
    "def detailDF (conDF, list) :\n",
    "    \n",
    "    DF=pd.DataFrame([], columns=[\"so\", \"soidx\", \"po\", \"poidx\" \"d1\", \"t1\", \"d2\", \"t2\", \"d3\",\"t3\", \"d4\", \"t4\", \"reference\"])\n",
    "\n",
    "    for i in list:\n",
    "        print (\"DETAIL DF\", i)\n",
    "        DF=pd.concat([DF, pd.DataFrame(conDF.loc[i], columns=[\"d1\", \"t1\", \"d2\", \"t2\", \"d3\",\"t3\", \"d4\", \"t4\", \"reference\"])])    \n",
    "    return DF"
   ]
  },
  {
   "cell_type": "code",
   "execution_count": 23,
   "metadata": {},
   "outputs": [],
   "source": [
    "def mergeDF (filelist) :\n",
    "    colDF=[\"so\", \"soidx\", \"po\", \"poidx\", \"idx\", \"d1\", \"t1\", \"d2\", \"t2\", \"d3\",\"t3\", \"d4\", \"t4\", \"reference\"]\n",
    "    colSUM=[\"so\", \"soidx\", \"po\",\"poidx\", \"idx\", \"partno\", \"config\",\"T1\",\"T2\",\"T3\",\"T4\",\"△\",\"Stored\", \"ETD\", \"ETA\", \"Status\", \"Remark\", \"Ref#\", \"Partial\"]\n",
    "    conDF=pd.DataFrame([], columns=colDF)\n",
    "    conSUM=pd.DataFrame([], columns=colSUM)\n",
    "\n",
    "    for file in filelist :\n",
    "        print (file, \"read to be parsed.... \")\n",
    "        items, so, po =fileRead(file)\n",
    "        TotalList, SumList = itemsParsing(items, so, po)        \n",
    "        conDF=pd.concat([conDF,pd.DataFrame(TotalList, columns=colDF)])\n",
    "        conSUM=pd.concat([conSUM,pd.DataFrame(SumList, columns=colSUM)])\n",
    "\n",
    "    conDF=pd.DataFrame(conDF, columns=colDF)                         \n",
    "    conSUM=pd.DataFrame(conSUM, columns=colSUM)\n",
    "    conDF=conDF.set_index(\"idx\")\n",
    "    conSUM=conSUM.set_index(\"idx\")        \n",
    "    \n",
    "    partialDF = detailDF(conDF, conSUM[conSUM.Partial=='Partial'].index)    \n",
    "    return conDF, conSUM, partialDF"
   ]
  },
  {
   "cell_type": "markdown",
   "metadata": {},
   "source": [
    "# Running for all files in the list"
   ]
  },
  {
   "cell_type": "markdown",
   "metadata": {},
   "source": [
    "# TICKET READER"
   ]
  },
  {
   "cell_type": "code",
   "execution_count": 172,
   "metadata": {
    "scrolled": true
   },
   "outputs": [
    {
     "name": "stdout",
     "output_type": "stream",
     "text": [
      "['2018683983', '2018692836']\n"
     ]
    }
   ],
   "source": [
    "from os import listdir\n",
    "from os.path import isfile, join\n",
    "mypath=\".\"\n",
    "filelist = [f for f in listdir(mypath) if f.find(\"2018\") == 0 and len(f)==10]\n",
    "print(filelist)\n",
    "\n",
    "\n",
    "\n"
   ]
  },
  {
   "cell_type": "code",
   "execution_count": null,
   "metadata": {},
   "outputs": [],
   "source": [
    "DF,SUM,PARTIAL = mergeDF(filelist)\n",
    "conTickets=ticketsToDataFrame(filelist)"
   ]
  },
  {
   "cell_type": "code",
   "execution_count": 29,
   "metadata": {},
   "outputs": [],
   "source": [
    "def iw53Reader(filename) : \n",
    "    lines=[]\n",
    "    nos=[]\n",
    "    idxs=[]\n",
    "    dates=[]\n",
    "    with open(filename,\"r\", encoding=\"ISO-8859-1\") as file:\n",
    "        for line in file:\n",
    "            if (line.count(\"Notification\")) : \n",
    "                no=line.split()[1]\n",
    "                nos.append(no)                \n",
    "            if (line.count(\"Sales ord.\")) : \n",
    "                idx=line.split()[6] + line.split()[7]                      \n",
    "                idxs.append(idx)                \n",
    "            if (line.count(\"Mat.avail.dat\")):\n",
    "                date=line.split()[1]\n",
    "                dates.append(date)                \n",
    "    iw53Result=pd.DataFrame({\"date\":dates, \"idx\" : idxs, \"no\" : nos,  })\n",
    "    return iw53Result"
   ]
  },
  {
   "cell_type": "code",
   "execution_count": 30,
   "metadata": {},
   "outputs": [],
   "source": [
    "iw53Result=iw53Reader(\"IW53.txt\")"
   ]
  },
  {
   "cell_type": "code",
   "execution_count": 65,
   "metadata": {},
   "outputs": [
    {
     "name": "stdout",
     "output_type": "stream",
     "text": [
      "2018-06-01 14:08:47.089614\n"
     ]
    }
   ],
   "source": [
    "print(datetime.datetime.now())"
   ]
  },
  {
   "cell_type": "code",
   "execution_count": null,
   "metadata": {},
   "outputs": [],
   "source": [
    "#To save excel file \n",
    "writer=pd.ExcelWriter(time.strftime(\"%Y%m%d%h%m%s\")+'YVA1.xlsx')\n",
    "SUM.to_excel(writer,'SUM')\n",
    "DF.to_excel(writer,'DF')\n",
    "PARTIAL.to_excel(writer,'PARTIAL')\n",
    "conTickets.to_excel(writer,'tickets')\n",
    "writer.save()"
   ]
  },
  {
   "cell_type": "code",
   "execution_count": null,
   "metadata": {},
   "outputs": [],
   "source": []
  },
  {
   "cell_type": "code",
   "execution_count": null,
   "metadata": {},
   "outputs": [],
   "source": []
  },
  {
   "cell_type": "markdown",
   "metadata": {},
   "source": [
    "## Input into MYSQL DB(schema = LO)"
   ]
  },
  {
   "cell_type": "code",
   "execution_count": 36,
   "metadata": {},
   "outputs": [
    {
     "name": "stdout",
     "output_type": "stream",
     "text": [
      "20180521\n"
     ]
    }
   ],
   "source": [
    "#!/usr/bin/python\n",
    "import time\n",
    "## dd/mm/yyyy format\n",
    "print (time.strftime(\"%Y%m%d\"))"
   ]
  },
  {
   "cell_type": "code",
   "execution_count": 26,
   "metadata": {},
   "outputs": [],
   "source": [
    "import mysql.connector\n",
    "f=open('mysql.key').readline().split()\n",
    "cnx = mysql.connector.connect(user=f[0], password=f[1],\n",
    "                              host='127.0.0.1',\n",
    "                              database='lo')\n",
    "cursor = cnx.cursor()      "
   ]
  },
  {
   "cell_type": "markdown",
   "metadata": {},
   "source": [
    "## Create table"
   ]
  },
  {
   "cell_type": "code",
   "execution_count": null,
   "metadata": {},
   "outputs": [],
   "source": [
    "def create_database(cursor):\n",
    "    try:\n",
    "        cursor.execute(\n",
    "            \"CREATE DATABASE {} DEFAULT CHARACTER SET 'utf8'\".format(DB_NAME))\n",
    "    except mysql.connector.Error as err:\n",
    "        print(\"Failed creating database: {}\".format(err))\n",
    "        exit(1)\n",
    "\n",
    "try:\n",
    "    cnx.database = 'lo'  \n",
    "except mysql.connector.Error as err:\n",
    "    if err.errno == errorcode.ER_BAD_DB_ERROR:\n",
    "        create_database(cursor)\n",
    "        cnx.database = DB_NAME\n",
    "    else:\n",
    "        print(err)\n",
    "        exit(1)"
   ]
  },
  {
   "cell_type": "markdown",
   "metadata": {},
   "source": [
    "### Delete the previous YVA (to be developed to keep the history)"
   ]
  },
  {
   "cell_type": "code",
   "execution_count": null,
   "metadata": {},
   "outputs": [],
   "source": [
    "query = \"delete from yva1\"\n",
    "cursor.execute(query)\n",
    "cnx.commit()"
   ]
  },
  {
   "cell_type": "markdown",
   "metadata": {},
   "source": [
    "## Create Table"
   ]
  },
  {
   "cell_type": "code",
   "execution_count": null,
   "metadata": {},
   "outputs": [],
   "source": [
    "TABLES={}\n",
    "TABLES['yva1'] = (\n",
    "    \"CREATE TABLE yva1 (\"\n",
    "    \"  so varchar(12) NOT NULL,\"\n",
    "    \"  soidx varchar(4) NOT NULL,\"\n",
    "    \"  po varchar(10),\"\n",
    "    \"  poidx varchar(4),\"\n",
    "    \"  partno varchar(10),\"    \n",
    "    \"  config varchar(50),\"    \n",
    "    \"  T1 int(4),\"    \n",
    "    \"  T2 int(4),\"    \n",
    "    \"  T3 int(4),\"    \n",
    "    \"  T4 int(4),\"  \n",
    "    \"  delta int(4),\"  \n",
    "    \"  stock varchar(30),\"  \n",
    "    \"  etd date,\"\n",
    "    \"  eta date,\"\n",
    "    \"  status varchar(10),\"\n",
    "    \"  remark1 varchar(50),\"\n",
    "    \"  remark2 varchar(50),\"\n",
    "    \"  remark3 varchar(50),\"    \n",
    "    \"  PRIMARY KEY (so,soidx)\"\n",
    "    \") ENGINE=InnoDB\")"
   ]
  },
  {
   "cell_type": "code",
   "execution_count": null,
   "metadata": {},
   "outputs": [],
   "source": [
    "cursor.execute(TABLES['yva1'])"
   ]
  },
  {
   "cell_type": "markdown",
   "metadata": {},
   "source": [
    "### insert the new YVA1 data to the DB"
   ]
  },
  {
   "cell_type": "code",
   "execution_count": 30,
   "metadata": {
    "scrolled": false
   },
   "outputs": [
    {
     "name": "stdout",
     "output_type": "stream",
     "text": [
      "INSERT INTO yva1 VALUES('2018683983', '10', '4601974229', '1', '8024917', 'ELGA-TB-KF-150-3750-0H-ZL', 1, 1, 1, 1, 0, Null, '18.05.17', '18.05.17', 'GLFT', 'Invoiced 20946828', '20946828', '') \n",
      "1062 (23000): Duplicate entry '2018683983-10' for key 'PRIMARY'\n",
      "INSERT INTO yva1 VALUES('2018683983', '20', '4601974229', '2', '8024917', 'ELGA-TB-KF-150-1990-0H', 1, 1, 0, 0, 1, Null, Null, '18.06.01', 'ERO', 'Not Planned, not started. May have missing parts ', '', '') \n",
      "1062 (23000): Duplicate entry '2018683983-20' for key 'PRIMARY'\n",
      "INSERT INTO yva1 VALUES('2018683983', '30', '4601974229', '3', '8024916', 'ELGA-TB-KF-120-2500-0H-ZL', 2, 2, 0, 0, 2, Null, Null, '18.06.15', 'ERO', 'Not Planned, not started. May have missing parts ', '', '') \n",
      "1062 (23000): Duplicate entry '2018683983-30' for key 'PRIMARY'\n",
      "INSERT INTO yva1 VALUES('2018683983', '40', '4601974229', '4', '8024916', 'ELGA-TB-KF-120-1350-0H-ZL', 1, 1, 0, 0, 1, Null, Null, '18.06.15', 'ERO', 'Not Planned, not started. May have missing parts ', '', '') \n",
      "1062 (23000): Duplicate entry '2018683983-40' for key 'PRIMARY'\n",
      "INSERT INTO yva1 VALUES('2018683983', '50', '4601974229', '5', '8024916', 'ELGA-TB-KF-120-600-0H', 1, 1, 0, 0, 1, Null, Null, '18.06.15', 'ERO', 'Not Planned, not started. May have missing parts ', '', '') \n",
      "1062 (23000): Duplicate entry '2018683983-50' for key 'PRIMARY'\n",
      "INSERT INTO yva1 VALUES('2018683983', '60', '4601974229', '6', '556825', 'EGC-HD-220-600-TB-0H-GP', 1, 1, 0, 0, 1, Null, Null, '18.07.02', 'ERO', 'Not Planned, not started. May have missing parts ', '', '') \n",
      "1062 (23000): Duplicate entry '2018683983-60' for key 'PRIMARY'\n",
      "INSERT INTO yva1 VALUES('2018683983', '70', '4601974229', '7', '556825', 'EGC-HD-220-1600-TB-0H-GP', 1, 1, 0, 0, 1, Null, Null, '18.07.02', 'ERO', 'Not Planned, not started. May have missing parts ', '', '') \n",
      "1062 (23000): Duplicate entry '2018683983-70' for key 'PRIMARY'\n",
      "INSERT INTO yva1 VALUES('2018683983', '80', '4601974229', '8', '556825', 'EGC-HD-220-2035-TB-0H-GP-KL', 1, 1, 0, 0, 1, Null, Null, '18.07.02', 'ERO', 'Not Planned, not started. May have missing parts ', '', '') \n",
      "1062 (23000): Duplicate entry '2018683983-80' for key 'PRIMARY'\n",
      "INSERT INTO yva1 VALUES('2018683983', '90', '4601974229', '9', '556825', 'EGC-HD-220-940-TB-0H-GP', 1, 1, 0, 0, 1, Null, Null, '18.07.02', 'ERO', 'Not Planned, not started. May have missing parts ', '', '') \n",
      "1062 (23000): Duplicate entry '2018683983-90' for key 'PRIMARY'\n",
      "INSERT INTO yva1 VALUES('2018683983', '100', '4601974229', '1', '556825', 'EGC-HD-220-2350-TB-0H-GP-KL', 2, 2, 0, 0, 2, Null, Null, '18.07.02', 'ERO', 'Not Planned, not started. May have missing parts ', '', '') \n",
      "1062 (23000): Duplicate entry '2018683983-100' for key 'PRIMARY'\n",
      "INSERT INTO yva1 VALUES('2018683983', '110', '4601974229', '1', '556825', 'EGC-HD-220-1400-TB-0H-GP', 1, 1, 0, 0, 1, Null, Null, '18.07.02', 'ERO', 'Not Planned, not started. May have missing parts ', '', '') \n",
      "1062 (23000): Duplicate entry '2018683983-110' for key 'PRIMARY'\n",
      "INSERT INTO yva1 VALUES('2018683983', '120', '4601974229', '1', '556825', 'EGC-HD-220-1500-TB-0H-GP-KL', 1, 1, 0, 0, 1, Null, Null, '18.07.02', 'ERO', 'Not Planned, not started. May have missing parts ', '', '') \n",
      "1062 (23000): Duplicate entry '2018683983-120' for key 'PRIMARY'\n",
      "INSERT INTO yva1 VALUES('2018683983', '130', '4601974229', '1', '556824', 'EGC-HD-160-600-TB-0H-GP', 2, 2, 0, 0, 2, Null, Null, '18.07.02', 'ERO', 'Not Planned, not started. May have missing parts ', '', '') \n",
      "1062 (23000): Duplicate entry '2018683983-130' for key 'PRIMARY'\n",
      "INSERT INTO yva1 VALUES('2018683983', '140', '4601974229', '1', '556824', 'EGC-HD-160-700-TB-0H-GP', 2, 2, 0, 0, 2, Null, Null, '18.07.02', 'ERO', 'Not Planned, not started. May have missing parts ', '', '') \n",
      "1062 (23000): Duplicate entry '2018683983-140' for key 'PRIMARY'\n",
      "INSERT INTO yva1 VALUES('2018683983', '150', '4601974229', '1', '556821', 'EGC-HD-220-400-BS-25P-0H-GP', 3, 3, 0, 0, 3, Null, Null, '18.07.02', 'ERO', 'Not Planned, not started. May have missing parts ', '', '') \n",
      "1062 (23000): Duplicate entry '2018683983-150' for key 'PRIMARY'\n",
      "INSERT INTO yva1 VALUES('2018683983', '160', '4601974229', '1', '556821', 'EGC-HD-220-350-BS-25P-0H-GP', 7, 7, 0, 0, 7, Null, Null, '18.07.13', 'ERO', 'Not Planned, not started. May have missing parts ', '', '') \n",
      "1062 (23000): Duplicate entry '2018683983-160' for key 'PRIMARY'\n",
      "INSERT INTO yva1 VALUES('2018683983', '170', '4601974229', '1', '556817', 'EGC-185-3000-TB-KF-0H-GK-KR-C', 1, 1, 1, 1, 0, Null, '18.05.14', '18.05.15', 'LOE', 'Invoiced 20944267', '20944267', '') \n",
      "1062 (23000): Duplicate entry '2018683983-170' for key 'PRIMARY'\n",
      "INSERT INTO yva1 VALUES('2018683983', '180', '4601974229', '1', '556817', 'EGC-185-3000-TB-KF-0H-GK-KL-C', 1, 1, 0, 0, 1, Null, Null, '18.05.15', 'FREI', 'No missing part, production order free ', '', '') \n",
      "1062 (23000): Duplicate entry '2018683983-180' for key 'PRIMARY'\n",
      "INSERT INTO yva1 VALUES('2018683983', '190', '4601974229', '1', '556817', 'EGC-185-2520-TB-KF-0H-GK-KR-C', 2, 2, 0, 0, 2, Null, Null, '18.05.15', 'ERO', 'Not Planned, not started. May have missing parts ', '', '') \n",
      "1062 (23000): Duplicate entry '2018683983-190' for key 'PRIMARY'\n",
      "INSERT INTO yva1 VALUES('2018683983', '200', '4601974229', '2', '556817', 'EGC-185-2520-TB-KF-0H-GK-KL-C', 2, 2, 0, 0, 2, Null, Null, '18.05.15', 'ERO', 'Not Planned, not started. May have missing parts ', '', '') \n",
      "1062 (23000): Duplicate entry '2018683983-200' for key 'PRIMARY'\n",
      "INSERT INTO yva1 VALUES('2018683983', '210', '4601974229', '2', '556815', 'EGC-120-1300-TB-KF-0H-GP', 2, 2, 0, 0, 2, Null, Null, '18.06.15', 'ERO', 'Not Planned, not started. May have missing parts ', '', '') \n",
      "1062 (23000): Duplicate entry '2018683983-210' for key 'PRIMARY'\n",
      "INSERT INTO yva1 VALUES('2018683983', '220', '4601974229', '2', '556815', 'EGC-120-1350-TB-KF-0H-GQ', 2, 2, 0, 0, 2, Null, Null, '18.06.15', 'ERO', 'Not Planned, not started. May have missing parts ', '', '') \n",
      "1062 (23000): Duplicate entry '2018683983-220' for key 'PRIMARY'\n",
      "INSERT INTO yva1 VALUES('2018683983', '230', '4601974229', '2', '556815', 'EGC-120-680-TB-KF-0H-GQ', 2, 2, 0, 0, 2, Null, Null, '18.06.15', 'ERO', 'Not Planned, not started. May have missing parts ', '', '') \n",
      "1062 (23000): Duplicate entry '2018683983-230' for key 'PRIMARY'\n",
      "INSERT INTO yva1 VALUES('2018683983', '240', '4601974229', '2', '574090', 'ESBF-BS-63-550-25P', 2, 2, 0, 0, 2, Null, Null, '18.06.15', 'ERO', 'Not Planned, not started. May have missing parts ', '', '') \n",
      "1062 (23000): Duplicate entry '2018683983-240' for key 'PRIMARY'\n",
      "INSERT INTO yva1 VALUES('2018683983', '250', '4601974229', '2', '574090', 'ESBF-BS-63-350-25P', 5, 5, 0, 0, 5, Null, Null, '18.06.15', 'ERO', 'Not Planned, not started. May have missing parts ', '', '') \n",
      "1062 (23000): Duplicate entry '2018683983-250' for key 'PRIMARY'\n",
      "INSERT INTO yva1 VALUES('2018692836', '10', '4601976690', '1', '556825', 'EGC-HD-220-650-TB-0H-GP', 1, 1, 0, 0, 1, Null, Null, '18.05.22', 'ERO', 'Not Planned, not started. May have missing parts ', '', '') \n",
      "1062 (23000): Duplicate entry '2018692836-10' for key 'PRIMARY'\n",
      "INSERT INTO yva1 VALUES('2018692836', '20', '4601976690', '2', '556825', 'EGC-HD-220-600-TB-0H-GP', 2, 2, 0, 0, 2, Null, Null, '18.05.22', 'ERO', 'Not Planned, not started. May have missing parts ', '', '') \n",
      "1062 (23000): Duplicate entry '2018692836-20' for key 'PRIMARY'\n",
      "INSERT INTO yva1 VALUES('2018692836', '30', '4601976690', '3', '556825', 'EGC-HD-220-1700-TB-0H-GP', 1, 1, 0, 0, 1, Null, Null, '18.05.22', 'ERO', 'Not Planned, not started. May have missing parts ', '', '') \n",
      "1062 (23000): Duplicate entry '2018692836-30' for key 'PRIMARY'\n",
      "INSERT INTO yva1 VALUES('2018692836', '40', '4601976690', '4', '556825', 'EGC-HD-220-1600-TB-0H-GP-KL', 1, 1, 0, 0, 1, Null, Null, '18.05.29', 'ERO', 'Not Planned, not started. May have missing parts ', '', '') \n",
      "1062 (23000): Duplicate entry '2018692836-40' for key 'PRIMARY'\n",
      "INSERT INTO yva1 VALUES('2018692836', '50', '4601976690', '5', '556825', 'EGC-HD-220-1350-TB-0H-GP-KR', 2, 2, 0, 0, 2, Null, Null, '18.05.29', 'ERO', 'Not Planned, not started. May have missing parts ', '', '') \n",
      "1062 (23000): Duplicate entry '2018692836-50' for key 'PRIMARY'\n",
      "INSERT INTO yva1 VALUES('2018692836', '60', '4601976690', '6', '556825', 'EGC-HD-220-1250-TB-0H-GP', 3, 3, 3, 3, 0, Null, '18.05.11', '18.05.09', 'LOE', 'Invoiced 20943417', '20943417', '') \n",
      "1062 (23000): Duplicate entry '2018692836-60' for key 'PRIMARY'\n",
      "INSERT INTO yva1 VALUES('2018692836', '70', '4601976690', '7', '556825', 'EGC-HD-220-1200-TB-0H-GP', 1, 1, 0, 0, 1, Null, Null, '18.05.22', 'ERO', 'Not Planned, not started. May have missing parts ', '', '') \n",
      "1062 (23000): Duplicate entry '2018692836-70' for key 'PRIMARY'\n",
      "INSERT INTO yva1 VALUES('2018692836', '80', '4601976690', '8', '556825', 'EGC-HD-220-1100-TB-0H-GP', 2, 2, 0, 0, 2, Null, Null, '18.05.22', 'ERO', 'Not Planned, not started. May have missing parts ', '', '') \n",
      "1062 (23000): Duplicate entry '2018692836-80' for key 'PRIMARY'\n",
      "INSERT INTO yva1 VALUES('2018692836', '90', '4601976690', '9', '556825', 'EGC-HD-220-1080-TB-0H-GP', 1, 1, 0, 0, 1, Null, Null, '18.05.22', 'ERO', 'Not Planned, not started. May have missing parts ', '', '') \n",
      "1062 (23000): Duplicate entry '2018692836-90' for key 'PRIMARY'\n",
      "INSERT INTO yva1 VALUES('2018692836', '100', '4601976690', '1', '556825', 'EGC-HD-220-1050-TB-0H-GP', 1, 1, 0, 0, 1, Null, Null, '18.05.22', 'ERO', 'Not Planned, not started. May have missing parts ', '', '') \n",
      "1062 (23000): Duplicate entry '2018692836-100' for key 'PRIMARY'\n",
      "INSERT INTO yva1 VALUES('2018692836', '110', '4601976690', '1', '556824', 'EGC-HD-160-800-TB-0H-GP', 1, 1, 0, 0, 1, Null, Null, '18.07.04', 'ERO', 'Not Planned, not started. May have missing parts ', '', '') \n",
      "1062 (23000): Duplicate entry '2018692836-110' for key 'PRIMARY'\n",
      "INSERT INTO yva1 VALUES('2018692836', '120', '4601976690', '1', '556824', 'EGC-HD-160-2350-TB-0H-GP', 2, 2, 0, 0, 2, Null, Null, '18.07.04', 'ERO', 'Not Planned, not started. May have missing parts ', '', '') \n",
      "1062 (23000): Duplicate entry '2018692836-120' for key 'PRIMARY'\n",
      "INSERT INTO yva1 VALUES('2018692836', '130', '4601976690', '1', '556824', 'EGC-HD-160-1880-TB-0H-GP-KR', 1, 1, 0, 0, 1, Null, Null, '18.07.04', 'ERO', 'Not Planned, not started. May have missing parts ', '', '') \n",
      "1062 (23000): Duplicate entry '2018692836-130' for key 'PRIMARY'\n",
      "INSERT INTO yva1 VALUES('2018692836', '140', '4601976690', '1', '556824', 'EGC-HD-160-1880-TB-0H-GP-KL', 1, 1, 0, 0, 1, Null, Null, '18.07.04', 'ERO', 'Not Planned, not started. May have missing parts ', '', '') \n",
      "1062 (23000): Duplicate entry '2018692836-140' for key 'PRIMARY'\n",
      "INSERT INTO yva1 VALUES('2018692836', '150', '4601976690', '1', '556824', 'EGC-HD-160-1200-TB-0H-GP', 1, 1, 0, 0, 1, Null, Null, '18.07.04', 'ERO', 'Not Planned, not started. May have missing parts ', '', '') \n",
      "1062 (23000): Duplicate entry '2018692836-150' for key 'PRIMARY'\n",
      "INSERT INTO yva1 VALUES('2018692836', '160', '4601976690', '1', '556808', 'EGC-80-150-BS-10P-KF-0H-MR-GP', 1, 1, 0, 0, 1, Null, Null, '18.05.22', 'TRÜC', '1 level of a 2 level produciton has been finished ', '', '') \n",
      "1062 (23000): Duplicate entry '2018692836-160' for key 'PRIMARY'\n",
      "INSERT INTO yva1 VALUES('2018692836', '170', '4601976690', '1', '556808', 'EGC-80-150-BS-10P-KF-0H-ML-GP', 1, 1, 1, 1, 0, Null, '18.05.16', '18.05.22', 'GLFT', 'Invoiced 20945905', '20945905', '') \n",
      "1062 (23000): Duplicate entry '2018692836-170' for key 'PRIMARY'\n",
      "INSERT INTO yva1 VALUES('2018692836', '180', '4601976690', '1', '556808', 'EGC-80-100-BS-20P-KF-0H-ML-GP', 1, 1, 1, 1, 0, Null, '18.05.16', '18.05.22', 'GLFT', 'Invoiced 20945905', '20945905', '') \n",
      "1062 (23000): Duplicate entry '2018692836-180' for key 'PRIMARY'\n",
      "INSERT INTO yva1 VALUES('2018692836', '190', '4601976690', '1', '556808', 'EGC-80-100-BS-10P-KF-0H-MR-GP', 1, 1, 1, 1, 0, Null, '18.05.16', '18.05.22', 'GLFT', 'Invoiced 20945905', '20945905', '') \n",
      "1062 (23000): Duplicate entry '2018692836-190' for key 'PRIMARY'\n",
      "INSERT INTO yva1 VALUES('2018692836', '200', '4601976690', '2', '556808', 'EGC-80-100-BS-10P-KF-0H-ML-GP', 1, 1, 1, 0, 1, '1 fr. 18.05.17', Null, '18.05.22', 'GLFT', 'Delivered to CSC ', '', '') \n",
      "1062 (23000): Duplicate entry '2018692836-200' for key 'PRIMARY'\n",
      "INSERT INTO yva1 VALUES('2018692836', '210', '4601976690', '2', '556815', 'EGC-120-800-TB-KF-0H-GP', 6, 6, 0, 0, 6, Null, Null, '18.05.29', 'ERO', 'Not Planned, not started. May have missing parts ', '', '') \n",
      "1062 (23000): Duplicate entry '2018692836-210' for key 'PRIMARY'\n",
      "INSERT INTO yva1 VALUES('2018692836', '220', '4601976690', '2', '556809', 'EGC-120-700-BS-25P-KF-0H-MR-GP', 2, 2, 0, 0, 2, Null, Null, '18.05.29', 'ERO', 'Not Planned, not started. May have missing parts ', '', '') \n",
      "1062 (23000): Duplicate entry '2018692836-220' for key 'PRIMARY'\n",
      "INSERT INTO yva1 VALUES('2018692836', '230', '4601976690', '2', '556809', 'EGC-120-700-BS-25P-KF-0H-ML-GP', 2, 2, 0, 0, 2, Null, Null, '18.05.29', 'ERO', 'Not Planned, not started. May have missing parts ', '', '') \n",
      "1062 (23000): Duplicate entry '2018692836-230' for key 'PRIMARY'\n",
      "INSERT INTO yva1 VALUES('2018692836', '240', '4601976690', '2', '556815', 'EGC-120-605-TB-KF-0H-GP', 2, 2, 0, 0, 2, Null, Null, '18.05.29', 'ERO', 'Not Planned, not started. May have missing parts ', '', '') \n",
      "1062 (23000): Duplicate entry '2018692836-240' for key 'PRIMARY'\n",
      "INSERT INTO yva1 VALUES('2018692836', '250', '4601976690', '2', '556809', 'EGC-120-400-BS-25P-KF-0H-MR-GP', 1, 1, 0, 0, 1, Null, Null, '18.05.29', 'ERO', 'Not Planned, not started. May have missing parts ', '', '') \n",
      "1062 (23000): Duplicate entry '2018692836-250' for key 'PRIMARY'\n",
      "INSERT INTO yva1 VALUES('2018692836', '260', '4601976690', '2', '556809', 'EGC-120-400-BS-25P-KF-0H-ML-GP', 1, 1, 0, 0, 1, Null, Null, '18.05.29', 'ERO', 'Not Planned, not started. May have missing parts ', '', '') \n",
      "1062 (23000): Duplicate entry '2018692836-260' for key 'PRIMARY'\n",
      "INSERT INTO yva1 VALUES('2018692836', '270', '4601976690', '2', '556809', 'EGC-120-200-BS-25P-KF-0H-ML-GP', 1, 1, 0, 0, 1, Null, Null, '18.05.29', 'ERO', 'Not Planned, not started. May have missing parts ', '', '') \n",
      "1062 (23000): Duplicate entry '2018692836-270' for key 'PRIMARY'\n",
      "INSERT INTO yva1 VALUES('2018692836', '280', '4601976690', '2', '556815', 'EGC-120-1760-TB-KF-0H-GP', 2, 2, 0, 0, 2, Null, Null, '18.05.29', 'ERO', 'Not Planned, not started. May have missing parts ', '', '') \n",
      "1062 (23000): Duplicate entry '2018692836-280' for key 'PRIMARY'\n",
      "INSERT INTO yva1 VALUES('2018692836', '290', '4601976690', '2', '556809', 'EGC-120-150-BS-25P-KF-0H-MR-GP', 4, 4, 0, 0, 4, Null, Null, '18.05.29', 'ERO', 'Not Planned, not started. May have missing parts ', '', '') \n",
      "1062 (23000): Duplicate entry '2018692836-290' for key 'PRIMARY'\n",
      "INSERT INTO yva1 VALUES('2018692836', '300', '4601976690', '3', '556809', 'EGC-120-150-BS-25P-KF-0H-ML-GP', 4, 4, 0, 0, 4, Null, Null, '18.05.29', 'ERO', 'Not Planned, not started. May have missing parts ', '', '') \n",
      "1062 (23000): Duplicate entry '2018692836-300' for key 'PRIMARY'\n",
      "INSERT INTO yva1 VALUES('2018692836', '310', '4601976690', '3', '556815', 'EGC-120-1250-TB-KF-0H-GP', 4, 4, 0, 0, 4, Null, Null, '18.05.29', 'ERO', 'Not Planned, not started. May have missing parts ', '', '') \n",
      "1062 (23000): Duplicate entry '2018692836-310' for key 'PRIMARY'\n",
      "INSERT INTO yva1 VALUES('2018692836', '320', '4601976690', '3', '556815', 'EGC-120-1150-TB-KF-0H-GP', 2, 2, 0, 0, 2, Null, Null, '18.05.29', 'ERO', 'Not Planned, not started. May have missing parts ', '', '') \n",
      "1062 (23000): Duplicate entry '2018692836-320' for key 'PRIMARY'\n",
      "INSERT INTO yva1 VALUES('2018692836', '330', '4601976690', '3', '556809', 'EGC-120-100-BS-25P-KF-0H-MR-GP', 2, 2, 0, 0, 2, Null, Null, '18.05.29', 'ERO', 'Not Planned, not started. May have missing parts ', '', '') \n",
      "1062 (23000): Duplicate entry '2018692836-330' for key 'PRIMARY'\n",
      "INSERT INTO yva1 VALUES('2018692836', '340', '4601976690', '3', '556809', 'EGC-120-100-BS-25P-KF-0H-ML-GP', 2, 2, 0, 0, 2, Null, Null, '18.05.29', 'ERO', 'Not Planned, not started. May have missing parts ', '', '') \n",
      "1062 (23000): Duplicate entry '2018692836-340' for key 'PRIMARY'\n",
      "INSERT INTO yva1 VALUES('2018692836', '350', '4601976690', '3', '562771', 'Toothed b. axis EGC-HD-220-    -TB', 4, 4, 4, 4, 0, Null, '18.04.30', '18.05.08', '', 'Invoiced 20937026', '20937026', '') \n",
      "1062 (23000): Duplicate entry '2018692836-350' for key 'PRIMARY'\n",
      "INSERT INTO yva1 VALUES('2018715879', '10', '4045511427', '1', '574090', 'ESBF-BS-63-450-25P', 1, 1, 0, 0, 1, Null, Null, '18.06.04', 'ERO', 'Not Planned, not started. May have missing parts ', '', '') \n",
      "1062 (23000): Duplicate entry '2018715879-10' for key 'PRIMARY'\n",
      "INSERT INTO yva1 VALUES('2018715879', '20', '4045511427', '2', '574090', 'ESBF-BS-63-600-25P', 2, 2, 0, 0, 2, Null, Null, '18.06.04', 'ERO', 'Not Planned, not started. May have missing parts ', '', '') \n",
      "1062 (23000): Duplicate entry '2018715879-20' for key 'PRIMARY'\n",
      "INSERT INTO yva1 VALUES('2018715876', '10', '4045511425', '1', '556808', 'EGC-80-1000-BS-20P-S-KF-0H-ML-GP-KL', 2, 2, 0, 0, 2, Null, Null, '18.05.29', 'ERO', 'Not Planned, not started. May have missing parts ', '', '') \n",
      "1062 (23000): Duplicate entry '2018715876-10' for key 'PRIMARY'\n",
      "INSERT INTO yva1 VALUES('2018740360', '10', '4045516973', '1', '8022601', 'ESBF-BS-50-450-10P', 3, 3, 0, 0, 3, Null, Null, '18.06.08', 'ERO', 'Not Planned, not started. May have missing parts ', '', '') \n",
      "1062 (23000): Duplicate entry '2018740360-10' for key 'PRIMARY'\n",
      "INSERT INTO yva1 VALUES('2018740334', '10', '4045516963', '1', '556815', 'EGC-120-1200-TB-KF-0H-GP', 4, 4, 0, 0, 4, Null, Null, '18.06.08', 'ERO', 'Not Planned, not started. May have missing parts ', '', '') \n",
      "1062 (23000): Duplicate entry '2018740334-10' for key 'PRIMARY'\n",
      "INSERT INTO yva1 VALUES('2018740334', '20', '4045516963', '2', '556815', 'EGC-120-1300-TB-KF-0H-GP', 2, 2, 0, 0, 2, Null, Null, '18.06.08', 'ERO', 'Not Planned, not started. May have missing parts ', '', '') \n",
      "1062 (23000): Duplicate entry '2018740334-20' for key 'PRIMARY'\n",
      "INSERT INTO yva1 VALUES('2018740335', '10', '4045516964', '1', '556820', 'EGC-HD-160-1500-BS-20P-S-0H-GP', 10, 10, 0, 0, 10, Null, Null, '18.06.04', 'ERO', 'Not Planned, not started. May have missing parts ', '', '') \n",
      "1062 (23000): Duplicate entry '2018740335-10' for key 'PRIMARY'\n",
      "INSERT INTO yva1 VALUES('2018740337', '10', '4045516965', '1', '556825', 'EGC-HD-220-1600-TB-0H-GP', 1, 1, 0, 0, 1, Null, Null, '18.06.04', 'ERO', 'Not Planned, not started. May have missing parts ', '', '') \n",
      "1062 (23000): Duplicate entry '2018740337-10' for key 'PRIMARY'\n",
      "INSERT INTO yva1 VALUES('2018759852', '10', '4601997586', '1', '556815', 'EGC-120-1400-TB-KF-0H-GP', 4, 4, 0, 0, 4, Null, Null, '18.06.15', 'ERO', 'Not Planned, not started. May have missing parts ', '', '') \n",
      "1062 (23000): Duplicate entry '2018759852-10' for key 'PRIMARY'\n"
     ]
    }
   ],
   "source": [
    "cnx = mysql.connector.connect(user=f[0], password=f[1],\n",
    "                              host='127.0.0.1',\n",
    "                              database='lo')\n",
    "\n",
    "cursor = cnx.cursor()    \n",
    "for k,v in SUM.iterrows():\n",
    "    value= (str(list(v)).replace(\"[\",\"\").replace(\"]\",\"\").replace(\"None\",\"Null\"))\n",
    "    query = (\"INSERT INTO yva1 VALUES(\" + value + \") \")\n",
    "    print(query)\n",
    "    \n",
    "    try :\n",
    "        cursor.execute(query)\n",
    "    except Exception as e:\n",
    "        print(e)\n",
    "        \n",
    "cnx.commit()\n",
    "cnx.close()"
   ]
  }
 ],
 "metadata": {
  "kernelspec": {
   "display_name": "Python 3",
   "language": "python",
   "name": "python3"
  },
  "language_info": {
   "codemirror_mode": {
    "name": "ipython",
    "version": 3
   },
   "file_extension": ".py",
   "mimetype": "text/x-python",
   "name": "python",
   "nbconvert_exporter": "python",
   "pygments_lexer": "ipython3",
   "version": "3.6.4"
  }
 },
 "nbformat": 4,
 "nbformat_minor": 2
}
