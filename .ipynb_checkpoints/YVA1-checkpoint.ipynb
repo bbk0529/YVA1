{
 "cells": [
  {
   "cell_type": "code",
   "execution_count": 32,
   "metadata": {},
   "outputs": [],
   "source": [
    "import datetime\n",
    "import pandas as pd\n",
    "import numpy as np\n",
    "import matplotlib.pyplot as plot"
   ]
  },
  {
   "cell_type": "code",
   "execution_count": 33,
   "metadata": {},
   "outputs": [],
   "source": [
    "STATUS={\n",
    "            \"PLAF\" : \"Plan order, created automatically after the order has been created\", \n",
    "\t\t\t\"ERO\" : \"Not Planned, not started. May have missing parts\", \n",
    "            \"FREI\" : \"No missing part, production order free\", \n",
    "            \"TRÜC\": \"1 level of a 2 level produciton has been finished\", \n",
    "            \"RÜCK\" : \"Production finished, on the way to CSC\", \n",
    "            \"GLFT\" : \"Delivered to CSC\",\n",
    "            \"LOE\" : \"P Order Deleted/Finished\",\n",
    "            \"TGLI\" : \"Partical delivery, the production order has been splitted and partical delivered\",\n",
    "            \"\" : \"UNKNOWN\"\n",
    "    }"
   ]
  },
  {
   "cell_type": "code",
   "execution_count": 34,
   "metadata": {},
   "outputs": [],
   "source": [
    "def fileRead(filename) :\n",
    "    items=[] #all materials in the doc\n",
    "    item=[] #single material in parsing\n",
    "    count=0 #to count the number of \"-\" so we could identify the boundary. \n",
    "\n",
    "    with open(\"2018630587_test\",\"r\", encoding=\"ISO-8859-1\") as file: #encoding based on the sap output\n",
    "\n",
    "        #To skip the headers accounting 6 six lines. \n",
    "        for i in range(6) :\n",
    "            line=file.readline() \n",
    "\n",
    "\n",
    "        #read a single line for getting so & po info from header\n",
    "        #Order type      TD       Document No.  2018630587 P.O. number   4601958823           Vendor number    \n",
    "        line=file.readline()     \n",
    "        so=line.split()[5]\n",
    "        po=line.split()[8]\n",
    "\n",
    "        while line.find('*****')<0: # when meeting *****  E N D   ******, loop ends \n",
    "            line=file.readline()\n",
    "            if line.find(\"Seite\") >0 :line=file.readline();continue #Seite should be skipped\n",
    "\n",
    "            #info started with \"----------------\", so it counts its number \n",
    "            if line[0]=='-':  count +=1                       \n",
    "\n",
    "            # conditions for adding line to item[]\n",
    "            if line[0]=='|' or line.count('Ident-code') :\n",
    "                item.append(line)\n",
    "\n",
    "            if (line[0]=='-' and item!=[] and count%2==1) :            \n",
    "                items.append(item)\n",
    "                item=[]            \n",
    "    items.append(item)  \n",
    "    return items, so, po"
   ]
  },
  {
   "cell_type": "code",
   "execution_count": 51,
   "metadata": {},
   "outputs": [],
   "source": [
    "def itemsParsing(items, so, po) :\n",
    "    \n",
    "    TotalList=[]\n",
    "    SumList=[]\n",
    "\n",
    "    #For each items \n",
    "    start=1\n",
    "    if str(items).find(\"Ship-to party \")>0 :\n",
    "        start=2        \n",
    "    \n",
    "    for row in range(start,len(items)) :\n",
    "        stored=''\n",
    "        n=len(items[row])\n",
    "        \n",
    "        if str(items[row]).find(\"stored in\")>0 : \n",
    "            n=n-1\n",
    "            stored=items[row][-2][76:91].strip()\n",
    "        \n",
    "        status=items[row][0][91:95].strip()\n",
    "        #print(items[row])\n",
    "        \n",
    "        #so=items[row][2][26:36]\n",
    "        no=int(items[row][0][1:5].strip())\n",
    "        partno=items[row][0][14:22].strip()\n",
    "        config=items[row][-1][36:80].strip() if items[row][-1][36:80].count(\"-\")>3 else items[1][0][23:62].strip()\n",
    "\n",
    "        #Each records of each Items Parsing\n",
    "        T1=0;T2=0;T3=0;T4=0\n",
    "        if str(items[row]).find(\"Ident\")>0 : n-=1\n",
    "        \n",
    "        soidx=items[row][0][1:5]\n",
    "        poidx=items[row][1][1:5]\n",
    "        d2='' \n",
    "        d3=''\n",
    "        d4=''\n",
    "        eta=''\n",
    "        for i in range(2,n) :\n",
    "            t=items[row][i]\n",
    "\n",
    "            if t[11:19].find(\".\")>0 :\n",
    "                d1=datetime.datetime.strptime(t[11:19],  \"%y.%m.%d\").date()\n",
    "            \n",
    "            if t[35:46].find(\".\")>0 :\n",
    "                d2=datetime.datetime.strptime(t[38:46],  \"%y.%m.%d\").date() \n",
    "                eta=d2\n",
    "\n",
    "            if t[85:93].find(\".\")>0 and t[85:93].find(\"00.00.00\")==-1: \n",
    "                d3=datetime.datetime.strptime(t[85:93],  \"%y.%m.%d\").date()\n",
    "            #else : \n",
    "                #d3=''\n",
    "            \n",
    "            if t[116:124].find(\".\")>0 : \n",
    "                d4=datetime.datetime.strptime(t[116:124],  \"%y.%m.%d\").date()\n",
    "            #else : \n",
    "                #d4=''\n",
    "\t\t\t\t\n",
    "            t1=0;t2=0;t3=0;t4=0\n",
    "            if t[22:25].strip()!='' : \n",
    "                t1=int(t[22:25])\n",
    "                T1+=int(t1)    \n",
    "            \n",
    "            if t[49:52].strip()!='' : \n",
    "                t2=int(t[49:52]) \n",
    "                T2+=int(t2)    \n",
    "\n",
    "            if t[96:99].strip() !=\"\" and t[96:99].find(\"ED\")==-1 : \n",
    "                t3=int(t[96:99]);\n",
    "                T3+=t3\n",
    "                \n",
    "            if t[127:130].strip() !=\"\" and t[127:130].find(\"|\")==-1 : \n",
    "                t4=int(t[127:130]);\n",
    "                T4+=t4\n",
    "\n",
    "            #Invoice#     \n",
    "            reference=t[-31:-23].strip()\n",
    "\n",
    "            #A single row created here\n",
    "            TotalList.append([so, soidx.strip(), po, poidx.strip(), (so+ str(no)).strip(), d1,t1,d2,t2,d3,t3,d4,t4,reference])\n",
    "\n",
    "        delta=T1-T4\n",
    "        reference=''\n",
    "        if delta==0:\n",
    "            etd=TotalList[-1][-3]\n",
    "            REMARK=\"Invoiced\"\n",
    "            reference=items[row][-2][-31:-23]\n",
    "        else :\n",
    "            REMARK=STATUS[status]\n",
    "            etd=''\n",
    "\n",
    "        partial=\"Partial\" if delta>0 and T1>delta else ''\n",
    "        SumList.append([so, soidx.strip(), po, poidx.strip(), (so+ str(no)).strip(), partno, config, T1,T2,T3,T4, delta, stored, etd, eta, status,REMARK + \" \" + reference, reference, partial])\n",
    "\n",
    "    return TotalList, SumList"
   ]
  },
  {
   "cell_type": "code",
   "execution_count": 44,
   "metadata": {},
   "outputs": [],
   "source": [
    "def detailDF (conDF, list) :\n",
    "    \n",
    "    DF=pd.DataFrame([], columns=[\"so\", \"soidx\", \"po\", \"poidx\" \"d1\", \"t1\", \"d2\", \"t2\", \"d3\",\"t3\", \"d4\", \"t4\", \"reference\"])\n",
    "\n",
    "    for i in list:\n",
    "        print (\"DETAIL DF\", i)\n",
    "        DF=pd.concat([DF, pd.DataFrame(conDF.loc[i], columns=[\"d1\", \"t1\", \"d2\", \"t2\", \"d3\",\"t3\", \"d4\", \"t4\", \"reference\"])])\n",
    "        #print(pd.DataFrame(conDF.loc[str(i)], columns=[\"d1\", \"t1\", \"d2\", \"t2\", \"d3\",\"t3\", \"d4\", \"t4\", \"reference\"]))\n",
    "\t\t#partialDF=pd.concat([partialDF, pd.DataFrame(conDF.loc[i])])\n",
    "    return DF"
   ]
  },
  {
   "cell_type": "code",
   "execution_count": 45,
   "metadata": {},
   "outputs": [],
   "source": [
    "def mergeDF (filelist) :\n",
    "    colDF=[\"so\", \"soidx\", \"po\", \"poidx\", \"idx\", \"d1\", \"t1\", \"d2\", \"t2\", \"d3\",\"t3\", \"d4\", \"t4\", \"reference\"]\n",
    "    colSUM=[\"so\", \"soidx\", \"po\",\"poidx\", \"idx\", \"partno\", \"config\",\"T1\",\"T2\",\"T3\",\"T4\",\"△\",\"Stored\", \"ETD\", \"ETA\", \"Status\", \"Remark\", \"Ref#\", \"Partial\"]\n",
    "    conDF=pd.DataFrame([], columns=colDF)\n",
    "    conSUM=pd.DataFrame([], columns=colSUM)\n",
    "\n",
    "    for file in filelist :\n",
    "        print (file, \"read to be parsed.... \")\n",
    "        items, so, po =fileRead(file)\n",
    "        TotalList, SumList = itemsParsing(items, so, po)\n",
    "        #print(\"============\")\n",
    "        #print (file, TotalList)\n",
    "        #print(\"============\")\n",
    "        conDF=pd.concat([conDF,pd.DataFrame(TotalList, columns=colDF)])\n",
    "        conSUM=pd.concat([conSUM,pd.DataFrame(SumList, columns=colSUM)])\n",
    "\n",
    "    conDF=pd.DataFrame(conDF, columns=colDF)                         \n",
    "    conSUM=pd.DataFrame(conSUM, columns=colSUM)\n",
    "    conDF=conDF.set_index(\"idx\")\n",
    "    conSUM=conSUM.set_index(\"idx\") \n",
    "    partialDF = detailDF(conDF, conSUM[conSUM.Partial=='Partial'].index)    \n",
    "    return conDF, conSUM, partialDF"
   ]
  },
  {
   "cell_type": "markdown",
   "metadata": {},
   "source": [
    "## Test for a single file"
   ]
  },
  {
   "cell_type": "code",
   "execution_count": 46,
   "metadata": {},
   "outputs": [],
   "source": [
    "colDF=[\"so\", \"soidx\", \"po\", \"poidx\", \"idx\", \"d1\", \"t1\", \"d2\", \"t2\", \"d3\",\"t3\", \"d4\", \"t4\", \"reference\"]\n",
    "colSUM=[\"so\", \"soidx\", \"po\",\"poidx\", \"idx\", \"partno\", \"config\",\"T1\",\"T2\",\"T3\",\"T4\",\"△\",\"Stored\", \"ETD\", \"ETA\", \"Status\", \"Remark\", \"Ref#\", \"Partial\"]\n",
    "conDF=pd.DataFrame([], columns=colDF)\n",
    "conSUM=pd.DataFrame([], columns=colSUM)\n",
    "\n",
    "items,so, po = fileRead(\"2018630587_test\")\n",
    "TotalList, SumList=itemsParsing(items,so,po)\n",
    "conDF=pd.concat([conDF,pd.DataFrame(TotalList, columns=colDF)])\n",
    "conSUM=pd.concat([conSUM,pd.DataFrame(SumList, columns=colSUM)])\n",
    "\n",
    "conDF=pd.DataFrame(conDF, columns=colDF)                         \n",
    "conSUM=pd.DataFrame(conSUM, columns=colSUM)\n",
    "conDF=conDF.set_index(\"idx\")\n",
    "conSUM=conSUM.set_index(\"idx\") \n",
    "partialDF = detailDF(conDF, conSUM[conSUM.Partial=='Partial'].index)    "
   ]
  },
  {
   "cell_type": "code",
   "execution_count": 47,
   "metadata": {},
   "outputs": [
    {
     "data": {
      "text/plain": [
       "['2018630587',\n",
       " '10',\n",
       " '4601958823',\n",
       " '1',\n",
       " '556825',\n",
       " 'EGC-HD-220-4050-TB-0H-GP',\n",
       " 2,\n",
       " 2,\n",
       " 0,\n",
       " 0,\n",
       " 2,\n",
       " '',\n",
       " '',\n",
       " datetime.date(2018, 5, 17),\n",
       " 'TRÜC',\n",
       " '1 level of a 2 level produciton has been finished ',\n",
       " '',\n",
       " '']"
      ]
     },
     "execution_count": 47,
     "metadata": {},
     "output_type": "execute_result"
    }
   ],
   "source": [
    "list(conSUM.iloc[0])"
   ]
  },
  {
   "cell_type": "markdown",
   "metadata": {},
   "source": [
    "# Running for all files in the list"
   ]
  },
  {
   "cell_type": "code",
   "execution_count": 15,
   "metadata": {
    "collapsed": true
   },
   "outputs": [
    {
     "ename": "FileNotFoundError",
     "evalue": "[Errno 2] No such file or directory: 'YVA1list.txt'",
     "output_type": "error",
     "traceback": [
      "\u001b[1;31m---------------------------------------------------------------------------\u001b[0m",
      "\u001b[1;31mFileNotFoundError\u001b[0m                         Traceback (most recent call last)",
      "\u001b[1;32m<ipython-input-15-f6f8f4a420fc>\u001b[0m in \u001b[0;36m<module>\u001b[1;34m()\u001b[0m\n\u001b[0;32m      1\u001b[0m \u001b[0mfilelist\u001b[0m\u001b[1;33m=\u001b[0m\u001b[1;33m[\u001b[0m\u001b[1;33m]\u001b[0m\u001b[1;33m\u001b[0m\u001b[0m\n\u001b[1;32m----> 2\u001b[1;33m \u001b[0mf\u001b[0m\u001b[1;33m=\u001b[0m\u001b[0mopen\u001b[0m\u001b[1;33m(\u001b[0m\u001b[1;34m\"YVA1list.txt\"\u001b[0m\u001b[1;33m,\u001b[0m\u001b[1;34m\"r\"\u001b[0m\u001b[1;33m,\u001b[0m \u001b[0mencoding\u001b[0m\u001b[1;33m=\u001b[0m\u001b[1;34m\"UTF-8\"\u001b[0m\u001b[1;33m)\u001b[0m\u001b[1;33m\u001b[0m\u001b[0m\n\u001b[0m\u001b[0;32m      3\u001b[0m \u001b[1;32mfor\u001b[0m \u001b[0mline\u001b[0m \u001b[1;32min\u001b[0m \u001b[0mf\u001b[0m \u001b[1;33m:\u001b[0m\u001b[1;33m\u001b[0m\u001b[0m\n\u001b[0;32m      4\u001b[0m     \u001b[0mfilelist\u001b[0m\u001b[1;33m.\u001b[0m\u001b[0mappend\u001b[0m\u001b[1;33m(\u001b[0m\u001b[0mline\u001b[0m\u001b[1;33m.\u001b[0m\u001b[0msplitlines\u001b[0m\u001b[1;33m(\u001b[0m\u001b[1;33m)\u001b[0m\u001b[1;33m[\u001b[0m\u001b[1;36m0\u001b[0m\u001b[1;33m]\u001b[0m\u001b[1;33m)\u001b[0m\u001b[1;33m\u001b[0m\u001b[0m\n\u001b[0;32m      5\u001b[0m \u001b[1;33m\u001b[0m\u001b[0m\n",
      "\u001b[1;31mFileNotFoundError\u001b[0m: [Errno 2] No such file or directory: 'YVA1list.txt'"
     ]
    }
   ],
   "source": [
    "filelist=[]\n",
    "f=open(\"YVA1list.txt\",\"r\", encoding=\"UTF-8\")\n",
    "for line in f :\n",
    "    filelist.append(line.splitlines()[0])\n",
    "\n",
    "DF,SUM,PARTIAL = mergeDF(filelist)\n",
    "\n",
    "#To save excel file \n",
    "writer=pd.ExcelWriter('output.xlsx')\n",
    "SUM.to_excel(writer,'SUM')\n",
    "DF.to_excel(writer,'DF')\n",
    "PARTIAL.to_excel(writer,'PARTIAL')\n",
    "writer.save()"
   ]
  },
  {
   "cell_type": "markdown",
   "metadata": {},
   "source": [
    "## Input into MYSQL DB(schema = LO)"
   ]
  },
  {
   "cell_type": "code",
   "execution_count": 6,
   "metadata": {},
   "outputs": [],
   "source": [
    "import mysql.connector\n",
    "f=open('mysql.key').readline().split()\n",
    "cnx = mysql.connector.connect(user=f[0], password=f[1],\n",
    "                              host='127.0.0.1',\n",
    "                              database='lo')\n",
    "cursor = cnx.cursor()      \n"
   ]
  },
  {
   "cell_type": "markdown",
   "metadata": {},
   "source": [
    "## Create table"
   ]
  },
  {
   "cell_type": "code",
   "execution_count": 9,
   "metadata": {},
   "outputs": [],
   "source": [
    "def create_database(cursor):\n",
    "    try:\n",
    "        cursor.execute(\n",
    "            \"CREATE DATABASE {} DEFAULT CHARACTER SET 'utf8'\".format(DB_NAME))\n",
    "    except mysql.connector.Error as err:\n",
    "        print(\"Failed creating database: {}\".format(err))\n",
    "        exit(1)\n",
    "\n",
    "try:\n",
    "    cnx.database = 'lo'  \n",
    "except mysql.connector.Error as err:\n",
    "    if err.errno == errorcode.ER_BAD_DB_ERROR:\n",
    "        create_database(cursor)\n",
    "        cnx.database = DB_NAME\n",
    "    else:\n",
    "        print(err)\n",
    "        exit(1)"
   ]
  },
  {
   "cell_type": "markdown",
   "metadata": {},
   "source": [
    "### Delete the previous YVA (to be developed to keep the history)"
   ]
  },
  {
   "cell_type": "code",
   "execution_count": null,
   "metadata": {},
   "outputs": [],
   "source": [
    "query = \"delete * from yva1_main\"\n",
    "cursor.execute(query)"
   ]
  },
  {
   "cell_type": "markdown",
   "metadata": {},
   "source": [
    "## Create Table"
   ]
  },
  {
   "cell_type": "code",
   "execution_count": 12,
   "metadata": {},
   "outputs": [],
   "source": [
    "TABLES={}"
   ]
  },
  {
   "cell_type": "code",
   "execution_count": null,
   "metadata": {},
   "outputs": [],
   "source": [
    "['2018630587',\n",
    " '10',\n",
    " '4601958823',\n",
    " '1',\n",
    " '556825',\n",
    " 'EGC-HD-220-4050-TB-0H-GP',\n",
    " 2,\n",
    " 2,\n",
    " 0,\n",
    " 0,\n",
    " 2,\n",
    " '',\n",
    " '',\n",
    " datetime.date(2018, 5, 17),\n",
    " 'TRÜC',\n",
    " '1 level of a 2 level produciton has been finished ',\n",
    " '',\n",
    " '']"
   ]
  },
  {
   "cell_type": "code",
   "execution_count": 52,
   "metadata": {},
   "outputs": [],
   "source": [
    "TABLES['yva1'] = (\n",
    "    \"CREATE TABLE yva1 (\"\n",
    "    \"  so varchar(12) NOT NULL,\"\n",
    "    \"  soidx varchar(4) NOT NULL,\"\n",
    "    \"  po varchar(10),\"\n",
    "    \"  poidx varchar(4),\"\n",
    "    \"  partno varchar(10),\"    \n",
    "    \"  config varchar(20),\"    \n",
    "    \"  T1 int(4),\"    \n",
    "    \"  T2 int(4),\"    \n",
    "    \"  T3 int(4),\"    \n",
    "    \"  T4 int(4),\"  \n",
    "    \"  delta int(4),\"  \n",
    "    \"  stock int(4),\"  \n",
    "    \"  etd date,\"\n",
    "    \"  eta date,\"\n",
    "    \"  status varchar(10),\"\n",
    "    \"  remark1 varchar(50),\"\n",
    "    \"  remark2 varchar(50),\"\n",
    "    \"  remark3 varchar(50),\"    \n",
    "    \"  PRIMARY KEY (so,soidx)\"\n",
    "    \") ENGINE=InnoDB\")"
   ]
  },
  {
   "cell_type": "code",
   "execution_count": 53,
   "metadata": {},
   "outputs": [
    {
     "data": {
      "text/plain": [
       "'CREATE TABLE yva1 (  so varchar(12) NOT NULL,  soidx varchar(10) NOT NULL,  po varchar(10),  poidx varchar(4),  partno varchar(10),  config varchar(20),  T1 int(4),  T2 int(4),  T3 int(4),  T4 int(4),  delta int(4),  stock int(4),  etd date,  eta date,  status varchar(10),  remark1 varchar(50),  remark2 varchar(50),  remark3 varchar(50),  PRIMARY KEY (so,soidx)) ENGINE=InnoDB'"
      ]
     },
     "execution_count": 53,
     "metadata": {},
     "output_type": "execute_result"
    }
   ],
   "source": [
    "TABLES['yva1']"
   ]
  },
  {
   "cell_type": "code",
   "execution_count": 54,
   "metadata": {},
   "outputs": [],
   "source": [
    "cursor.execute(TABLES['yva1'])"
   ]
  },
  {
   "cell_type": "markdown",
   "metadata": {},
   "source": [
    "### insert the new YVA1 data to the DB"
   ]
  },
  {
   "cell_type": "code",
   "execution_count": 55,
   "metadata": {},
   "outputs": [],
   "source": [
    "query = (\"INSERT INTO yva1_main \"         \n",
    "         \"(so, soidx, po, poidx, partno, config, T1, T2, T3, T4, delta, stock, etd, eta, status, remark1, remark2, remark3) \"\n",
    "         \"VALUES (%s, %s, %s, %s, %s, %s, %s, %s, %s, %s, %s, %s, %s, %s, %s, %s)\")"
   ]
  },
  {
   "cell_type": "code",
   "execution_count": 60,
   "metadata": {},
   "outputs": [],
   "source": [
    "data_yva1=\"'201863058710', '2018630587',  '10', '4601958823', '   1', '556825', 'EGC-HD-220-4050-TB-0H-GP', 2, 2, 0, 0, 2, '', '', date(2018, 5, 17), 'TRÜC', '1 level of a 2 level produciton has been finished ', '', ''\"\n"
   ]
  },
  {
   "cell_type": "code",
   "execution_count": 61,
   "metadata": {},
   "outputs": [],
   "source": [
    "query = (\"INSERT INTO yva1_main \"         \n",
    "         \"VALUES(\" + data_yva1 + \") \")"
   ]
  },
  {
   "cell_type": "code",
   "execution_count": 62,
   "metadata": {},
   "outputs": [
    {
     "data": {
      "text/plain": [
       "\"INSERT INTO yva1_main VALUES('201863058710', '2018630587',  '10', '4601958823', '   1', '556825', 'EGC-HD-220-4050-TB-0H-GP', 2, 2, 0, 0, 2, '', '', date(2018, 5, 17), 'TRÜC', '1 level of a 2 level produciton has been finished ', '', '') \""
      ]
     },
     "execution_count": 62,
     "metadata": {},
     "output_type": "execute_result"
    }
   ],
   "source": [
    "query"
   ]
  },
  {
   "cell_type": "code",
   "execution_count": 63,
   "metadata": {},
   "outputs": [
    {
     "ename": "ProgrammingError",
     "evalue": "1064 (42000): You have an error in your SQL syntax; check the manual that corresponds to your MySQL server version for the right syntax to use near ' 5, 17), 'TRÜC', '1 level of a 2 level produciton has been finished ', '', '')' at line 1",
     "output_type": "error",
     "traceback": [
      "\u001b[1;31m---------------------------------------------------------------------------\u001b[0m",
      "\u001b[1;31mProgrammingError\u001b[0m                          Traceback (most recent call last)",
      "\u001b[1;32m<ipython-input-63-70f19cd38195>\u001b[0m in \u001b[0;36m<module>\u001b[1;34m()\u001b[0m\n\u001b[1;32m----> 1\u001b[1;33m \u001b[0mcursor\u001b[0m\u001b[1;33m.\u001b[0m\u001b[0mexecute\u001b[0m\u001b[1;33m(\u001b[0m\u001b[0mquery\u001b[0m\u001b[1;33m)\u001b[0m\u001b[1;33m\u001b[0m\u001b[0m\n\u001b[0m",
      "\u001b[1;32mC:\\dev\\anaconda3\\lib\\site-packages\\mysql\\connector\\cursor.py\u001b[0m in \u001b[0;36mexecute\u001b[1;34m(self, operation, params, multi)\u001b[0m\n\u001b[0;32m    549\u001b[0m         \u001b[1;32melse\u001b[0m\u001b[1;33m:\u001b[0m\u001b[1;33m\u001b[0m\u001b[0m\n\u001b[0;32m    550\u001b[0m             \u001b[1;32mtry\u001b[0m\u001b[1;33m:\u001b[0m\u001b[1;33m\u001b[0m\u001b[0m\n\u001b[1;32m--> 551\u001b[1;33m                 \u001b[0mself\u001b[0m\u001b[1;33m.\u001b[0m\u001b[0m_handle_result\u001b[0m\u001b[1;33m(\u001b[0m\u001b[0mself\u001b[0m\u001b[1;33m.\u001b[0m\u001b[0m_connection\u001b[0m\u001b[1;33m.\u001b[0m\u001b[0mcmd_query\u001b[0m\u001b[1;33m(\u001b[0m\u001b[0mstmt\u001b[0m\u001b[1;33m)\u001b[0m\u001b[1;33m)\u001b[0m\u001b[1;33m\u001b[0m\u001b[0m\n\u001b[0m\u001b[0;32m    552\u001b[0m             \u001b[1;32mexcept\u001b[0m \u001b[0merrors\u001b[0m\u001b[1;33m.\u001b[0m\u001b[0mInterfaceError\u001b[0m\u001b[1;33m:\u001b[0m\u001b[1;33m\u001b[0m\u001b[0m\n\u001b[0;32m    553\u001b[0m                 \u001b[1;32mif\u001b[0m \u001b[0mself\u001b[0m\u001b[1;33m.\u001b[0m\u001b[0m_connection\u001b[0m\u001b[1;33m.\u001b[0m\u001b[0m_have_next_result\u001b[0m\u001b[1;33m:\u001b[0m  \u001b[1;31m# pylint: disable=W0212\u001b[0m\u001b[1;33m\u001b[0m\u001b[0m\n",
      "\u001b[1;32mC:\\dev\\anaconda3\\lib\\site-packages\\mysql\\connector\\connection.py\u001b[0m in \u001b[0;36mcmd_query\u001b[1;34m(self, query, raw, buffered, raw_as_string)\u001b[0m\n\u001b[0;32m    488\u001b[0m         \u001b[1;32mif\u001b[0m \u001b[1;32mnot\u001b[0m \u001b[0misinstance\u001b[0m\u001b[1;33m(\u001b[0m\u001b[0mquery\u001b[0m\u001b[1;33m,\u001b[0m \u001b[0mbytes\u001b[0m\u001b[1;33m)\u001b[0m\u001b[1;33m:\u001b[0m\u001b[1;33m\u001b[0m\u001b[0m\n\u001b[0;32m    489\u001b[0m             \u001b[0mquery\u001b[0m \u001b[1;33m=\u001b[0m \u001b[0mquery\u001b[0m\u001b[1;33m.\u001b[0m\u001b[0mencode\u001b[0m\u001b[1;33m(\u001b[0m\u001b[1;34m'utf-8'\u001b[0m\u001b[1;33m)\u001b[0m\u001b[1;33m\u001b[0m\u001b[0m\n\u001b[1;32m--> 490\u001b[1;33m         \u001b[0mresult\u001b[0m \u001b[1;33m=\u001b[0m \u001b[0mself\u001b[0m\u001b[1;33m.\u001b[0m\u001b[0m_handle_result\u001b[0m\u001b[1;33m(\u001b[0m\u001b[0mself\u001b[0m\u001b[1;33m.\u001b[0m\u001b[0m_send_cmd\u001b[0m\u001b[1;33m(\u001b[0m\u001b[0mServerCmd\u001b[0m\u001b[1;33m.\u001b[0m\u001b[0mQUERY\u001b[0m\u001b[1;33m,\u001b[0m \u001b[0mquery\u001b[0m\u001b[1;33m)\u001b[0m\u001b[1;33m)\u001b[0m\u001b[1;33m\u001b[0m\u001b[0m\n\u001b[0m\u001b[0;32m    491\u001b[0m \u001b[1;33m\u001b[0m\u001b[0m\n\u001b[0;32m    492\u001b[0m         \u001b[1;32mif\u001b[0m \u001b[0mself\u001b[0m\u001b[1;33m.\u001b[0m\u001b[0m_have_next_result\u001b[0m\u001b[1;33m:\u001b[0m\u001b[1;33m\u001b[0m\u001b[0m\n",
      "\u001b[1;32mC:\\dev\\anaconda3\\lib\\site-packages\\mysql\\connector\\connection.py\u001b[0m in \u001b[0;36m_handle_result\u001b[1;34m(self, packet)\u001b[0m\n\u001b[0;32m    393\u001b[0m             \u001b[1;32mreturn\u001b[0m \u001b[0mself\u001b[0m\u001b[1;33m.\u001b[0m\u001b[0m_handle_eof\u001b[0m\u001b[1;33m(\u001b[0m\u001b[0mpacket\u001b[0m\u001b[1;33m)\u001b[0m\u001b[1;33m\u001b[0m\u001b[0m\n\u001b[0;32m    394\u001b[0m         \u001b[1;32melif\u001b[0m \u001b[0mpacket\u001b[0m\u001b[1;33m[\u001b[0m\u001b[1;36m4\u001b[0m\u001b[1;33m]\u001b[0m \u001b[1;33m==\u001b[0m \u001b[1;36m255\u001b[0m\u001b[1;33m:\u001b[0m\u001b[1;33m\u001b[0m\u001b[0m\n\u001b[1;32m--> 395\u001b[1;33m             \u001b[1;32mraise\u001b[0m \u001b[0merrors\u001b[0m\u001b[1;33m.\u001b[0m\u001b[0mget_exception\u001b[0m\u001b[1;33m(\u001b[0m\u001b[0mpacket\u001b[0m\u001b[1;33m)\u001b[0m\u001b[1;33m\u001b[0m\u001b[0m\n\u001b[0m\u001b[0;32m    396\u001b[0m \u001b[1;33m\u001b[0m\u001b[0m\n\u001b[0;32m    397\u001b[0m         \u001b[1;31m# We have a text result set\u001b[0m\u001b[1;33m\u001b[0m\u001b[1;33m\u001b[0m\u001b[0m\n",
      "\u001b[1;31mProgrammingError\u001b[0m: 1064 (42000): You have an error in your SQL syntax; check the manual that corresponds to your MySQL server version for the right syntax to use near ' 5, 17), 'TRÜC', '1 level of a 2 level produciton has been finished ', '', '')' at line 1"
     ]
    }
   ],
   "source": [
    "cursor.execute(query)"
   ]
  },
  {
   "cell_type": "code",
   "execution_count": 111,
   "metadata": {},
   "outputs": [],
   "source": [
    "cnx.close()"
   ]
  },
  {
   "cell_type": "code",
   "execution_count": null,
   "metadata": {},
   "outputs": [],
   "source": []
  }
 ],
 "metadata": {
  "kernelspec": {
   "display_name": "Python 3",
   "language": "python",
   "name": "python3"
  },
  "language_info": {
   "codemirror_mode": {
    "name": "ipython",
    "version": 3
   },
   "file_extension": ".py",
   "mimetype": "text/x-python",
   "name": "python",
   "nbconvert_exporter": "python",
   "pygments_lexer": "ipython3",
   "version": "3.6.4"
  }
 },
 "nbformat": 4,
 "nbformat_minor": 2
}
