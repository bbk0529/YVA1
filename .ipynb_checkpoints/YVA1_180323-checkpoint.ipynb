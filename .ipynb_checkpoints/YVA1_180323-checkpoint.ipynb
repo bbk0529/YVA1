{
 "cells": [
  {
   "cell_type": "code",
   "execution_count": 1,
   "metadata": {},
   "outputs": [],
   "source": [
    "import datetime\n",
    "import pandas as pd\n",
    "import numpy as np\n",
    "import matplotlib.pyplot as plot\n",
    "%matplotlib inline"
   ]
  },
  {
   "cell_type": "code",
   "execution_count": 2,
   "metadata": {
    "scrolled": true
   },
   "outputs": [
    {
     "name": "stdout",
     "output_type": "stream",
     "text": [
      "['|Item / M.|RR|MATERIAL|Description                             |Bi.bl|Rea|Cat In.no.+Status    |PS|            |Di|  |  |S |L |T   |', '|CUSR.ITEM|Cust.mat.no.                               |Plan Sloc| TD|                                                              |']\n",
      "['|  10     |  |  574090|electric drive  ESBF-...-63-150         |     |   |X2  1374107355   ERO |KC             |01|  |  |00|00|000 |', '|   1     |000000000000574090                         |0015     |300|                                                              |', '|         |02-19-18     6|2018454054  03-27-18     6        |                                      |                               |']\n",
      "['|  20     |  | 8024917|Toothed b. axis ELGA-TB-KF-150-2900     |     |   |O2  1374107354   LOE |KS             |01|  |  |00|00|000 |', '|   2     |000000000008024917                         |0015     |300|                                                              |', '|         |02-19-18     1|2018454054  03-13-18     1        |28 0001 1776852297/20   03-09-18     1|  20906945/10   03-09-18     1 |']\n",
      "['|  30     |  |  556809|Spindle axis    EGC-120-220-BS-KF       |     |   |O2  1374107297   GLFT|KC             |01|  |  |00|00|000 |', '|   3     |000000000000556809                         |0015     |300|                                                              |', '|         |02-19-18     1|2018454054  03-13-18     1        |28 0001 1776852297/30   NOT DELIVERED |                               |', '|         |              |                                  |28 0001 1776967817/30   NOT DELIVERED |                               |', '|         |              |                                  |28 0001 1776996691/30   NOT DELIVERED |                               |', '|         |              |                                  |28 0001 1777007557/30   NOT DELIVERED |                               |', '|         |              |                                  |28 0001 1777050459/30   NOT DELIVERED |                               |', '|         |              |                                  |28 0001 1777068402/30   NOT DELIVERED |                               |', '|         |              |                            |stored in  :          1 fr. 03-13-18|                                   |']\n",
      "['|  40     |  |  556815|Toothed b. axis EGC-120-940-TB-KF       |     |   |O2  1374107225   LOE |KS             |01|  |  |00|00|000 |', '|   4     |000000000000556815                         |0015     |300|                                                              |', '|         |02-19-18     1|2018454054  03-13-18     1        |28 0001 1776852297/40   NOT DELIVERED |                               |', '|         |              |                                  |28 0001 1776967817/40   03-12-18     1|  20907778/100  03-12-18     1 |']\n",
      "['|  50     |  |  556815|Toothed b. axis EGC-120-1440-TB-KF      |     |   |O2  1374107236   GLFT|KS             |01|  |  |00|00|000 |', '|   5     |000000000000556815                         |0015     |300|                                                              |', '|         |02-19-18     1|2018454054  03-13-18     1        |28 0001 1776852297/50   NOT DELIVERED |                               |', '|         |              |                                  |28 0001 1776967817/50   NOT DELIVERED |                               |', '|         |              |                                  |28 0001 1776996691/50   NOT DELIVERED |                               |', '|         |              |                                  |28 0001 1777007557/50   03-13-18     1|  20908611/180  03-13-18     1 |']\n",
      "['|  60     |  |  556815|Toothed b. axis EGC-120-1540-TB-KF      |     |   |O2  1374107269   GLFT|KS             |01|  |  |00|00|000 |', '|   6     |000000000000556815                         |0015     |300|                                                              |', '|         |02-19-18     2|2018454054  03-13-18     2        |28 0001 1776852297/60   NOT DELIVERED |                               |', '|         |              |                                  |28 0001 1776967817/60   NOT DELIVERED |                               |', '|         |              |                                  |28 0001 1776996691/60   NOT DELIVERED |                               |', '|         |              |                                  |28 0001 1777007557/60   NOT DELIVERED |                               |', '|         |              |                                  |28 0001 1777050459/60   NOT DELIVERED |                               |', '|         |              |                                  |28 0001 1777068402/60   NOT DELIVERED |                               |', '|         |              |                            |stored in  :          2 fr. 03-12-18|                                   |']\n",
      "['|  70     |  |  556815|Toothed b. axis EGC-120-1040-TB-KF      |     |   |O2  1374107280   GLFT|KS             |01|  |  |00|00|000 |', '|   7     |000000000000556815                         |0015     |300|                                                              |', '|         |02-19-18     1|2018454054  03-13-18     1        |28 0001 1776852297/70   NOT DELIVERED |                               |', '|         |              |                                  |28 0001 1776967817/70   NOT DELIVERED |                               |', '|         |              |                                  |28 0001 1776996691/70   NOT DELIVERED |                               |', '|         |              |                                  |28 0001 1777007557/70   NOT DELIVERED |                               |', '|         |              |                                  |28 0001 1777050459/70   NOT DELIVERED |                               |', '|         |              |                                  |28 0001 1777068402/70   NOT DELIVERED |                               |', '|         |              |                            |stored in  :          1 fr. 03-12-18|                                   |']\n",
      "['|  80     |  |  556815|Toothed b. axis EGC-120-2040-TB-KF      |     |   |O2  1374107292   TRÜC|KS             |01|  |  |00|00|000 |', '|   8     |000000000000556815                         |0015     |300|                                                              |', '|         |02-19-18     1|2018454054  03-13-18     1        |28 0001 1776852297/80   NOT DELIVERED |                               |', '|         |              |                                  |28 0001 1776967817/80   NOT DELIVERED |                               |', '|         |              |                                  |28 0001 1776996691/80   NOT DELIVERED |                               |', '|         |              |                                  |28 0001 1777007557/80   NOT DELIVERED |                               |', '|         |              |                                  |28 0001 1777050459/80   NOT DELIVERED |                               |', '|         |              |                                  |28 0001 1777068402/80   NOT DELIVERED |                               |']\n",
      "['|  90     |  |  556815|Toothed b. axis EGC-120-1540-TB-KF      |     |   |O2  1374107304   GLFT|KS             |01|  |  |00|00|000 |', '|   9     |000000000000556815                         |0015     |300|                                                              |', '|         |02-19-18     2|2018454054  03-13-18     2        |28 0001 1776852297/90   NOT DELIVERED |                               |', '|         |              |                                  |28 0001 1776967817/90   NOT DELIVERED |                               |', '|         |              |                                  |28 0001 1776996691/90   03-13-18     2|  20908611/130  03-13-18     2 |']\n",
      "['| 100     |  |  556815|Toothed b. axis EGC-120-2440-TB-KF      |     |   |O2  1374107315   RÜCK|KS             |01|  |  |00|00|000 |', '|   10    |000000000000556815                         |0015     |300|                                                              |', '|         |02-19-18     2|2018454054  03-13-18     2        |28 0001 1776852297/100  NOT DELIVERED |                               |', '|         |              |                                  |28 0001 1776967817/100  NOT DELIVERED |                               |', '|         |              |                                  |28 0001 1776996691/100  NOT DELIVERED |                               |', '|         |              |                                  |28 0001 1777007557/100  NOT DELIVERED |                               |', '|         |              |                                  |28 0001 1777050459/100  NOT DELIVERED |                               |', '|         |              |                                  |28 0001 1777068402/100  NOT DELIVERED |                               |']\n",
      "['| 110     |  |  556815|Toothed b. axis EGC-120-2120-TB-KF      |     |   |O2  1374107214   TRÜC|KS             |01|  |  |00|00|000 |', '|   11    |000000000000556815                         |0015     |300|                                                              |', '|         |02-19-18     4|2018454054  03-13-18     4        |28 0001 1776852297/110  NOT DELIVERED |                               |', '|         |              |                                  |28 0001 1776967817/110  NOT DELIVERED |                               |', '|         |              |                                  |28 0001 1776996691/110  NOT DELIVERED |                               |', '|         |              |                                  |28 0001 1777007557/110  NOT DELIVERED |                               |', '|         |              |                                  |28 0001 1777050459/110  NOT DELIVERED |                               |', '|         |              |                                  |28 0001 1777068402/110  NOT DELIVERED |                               |']\n",
      "['| 120     |  |  556815|Toothed b. axis EGC-120-1200-TB-KF      |     |   |O2  1374107346   GLFT|KS             |01|  |  |00|00|000 |', '|   12    |000000000000556815                         |0015     |300|                                                              |', '|         |02-19-18     2|2018454054  03-13-18     2        |28 0001 1776852297/120  NOT DELIVERED |                               |', '|         |              |                                  |28 0001 1776967817/120  NOT DELIVERED |                               |', '|         |              |                                  |28 0001 1776996691/120  NOT DELIVERED |                               |', '|         |              |                                  |28 0001 1777007557/120  NOT DELIVERED |                               |', '|         |              |                                  |28 0001 1777050459/120  03-15-18     2|  20910355/30   03-15-18     2 |']\n",
      "['| 130     |  |  556815|Toothed b. axis EGC-120-1600-TB-KF      |     |   |O2  1374107361   GLFT|KS             |01|  |  |00|00|000 |', '|   13    |000000000000556815                         |0015     |300|                                                              |', '|         |02-19-18     2|2018454054  03-13-18     2        |28 0001 1776852297/130  NOT DELIVERED |                               |', '|         |              |                                  |28 0001 1776967817/130  NOT DELIVERED |                               |', '|         |              |                                  |28 0001 1776996691/130  NOT DELIVERED |                               |', '|         |              |                                  |28 0001 1777007557/130  NOT DELIVERED |                               |', '|         |              |                                  |28 0001 1777050459/130  NOT DELIVERED |                               |', '|         |              |                                  |28 0001 1777068402/130  03-15-18     2|  20910375/170  03-15-18     2 |']\n",
      "['| 140     |  |  556820|Spindle axis    EGC-HD-160-    -BS      |     |   |O2  1374107352   ERO |KC             |01|  |  |00|00|000 |', '|   14    |000000000000556820                         |0015     |300|                                                              |', '|         |02-19-18     2|2018454054  04-05-18     2        |                                      |                               |']\n",
      "['| 150     |  |  556821|Spindle axis    EGC-HD-220-    -BS      |     |   |O2  1374107427   ERO |KC             |01|  |  |00|00|000 |', '|   15    |000000000000556821                         |0015     |300|                                                              |', '|         |02-19-18     1|2018454054  03-27-18     1        |                                      |                               |']\n",
      "['| 160     |  |  556821|Spindle axis    EGC-HD-220-    -BS      |     |   |O2  1374106338   GLFT|KC             |01|  |  |00|00|000 |', '|   16    |000000000000556821                         |0015     |300|                                                              |', '|         |02-19-18    11|2018454054  03-13-18     5      M2|28 0001 1776852297/160  NOT DELIVERED |                               |', '|         |              |2018454054  03-14-18     3        |28 0001 1776967817/160  NOT DELIVERED |                               |', '|         |              |2018454054  03-15-18     3        |28 0001 1776996691/160  NOT DELIVERED |                               |', '|         |              |                                  |28 0001 1777007557/160  NOT DELIVERED |                               |', '|         |              |                                  |28 0001 1777050459/160  NOT DELIVERED |                               |', '|         |              |                                  |28 0001 1777068402/160  NOT DELIVERED |                               |', '|         |              |                            |stored in  :          2 fr. 03-12-18|                                   |']\n",
      "['| 170     |  |  556825|Toothed b. axis EGC-HD-220-    -TB      |     |   |O2  1374106329   GLFT|KC             |01|  |  |00|00|000 |', '|   17    |000000000000556825                         |0015     |300|                                                              |', '|         |02-19-18     5|2018454054  03-13-18     3      M2|28 0001 1776852297/170  NOT DELIVERED |                               |', '|         |              |2018454054  03-14-18     2        |28 0001 1776967817/170  NOT DELIVERED |                               |', '|         |              |                                  |28 0001 1776996691/170  03-13-18     5|  20908611/140  03-13-18     5 |']\n",
      "['| 180     |  |  556825|Toothed b. axis EGC-HD-220-    -TB      |     |   |O2  1374141586   ERO |KC             |01|  |  |00|00|000 |', '|   18    |000000000000556825                         |0015     |300|                                                              |', '|         |02-19-18     1|2018454054  03-20-18     1        |28 0001 1776996691/180  NOT DELIVERED |                               |', '|         |              |                                  |28 0001 1777007557/180  NOT DELIVERED |                               |', '|         |              |                                  |28 0001 1777050459/180  NOT DELIVERED |                               |', '|         |              |                                  |28 0001 1777068402/180  NOT DELIVERED |                               |']\n",
      "['| 190     |  |  556825|Toothed b. axis EGC-HD-220-    -TB      |     |   |O2  1374141593   ERO |KC             |01|  |  |00|00|000 |', '|   19    |000000000000556825                         |0015     |300|                                                              |', '|         |02-19-18     1|2018454054  03-20-18     1        |28 0001 1776996691/190  NOT DELIVERED |                               |', '|         |              |                                  |28 0001 1777007557/190  NOT DELIVERED |                               |', '|         |              |                                  |28 0001 1777050459/190  NOT DELIVERED |                               |', '|         |              |                                  |28 0001 1777068402/190  NOT DELIVERED |                               |']\n",
      "['| 200     |  |  556825|Toothed b. axis EGC-HD-220-    -TB      |     |   |O2  1374141620   ERO |KC             |01|  |  |00|00|000 |', '|   20    |000000000000556825                         |0015     |300|                                                              |', '|         |02-19-18     1|2018454054  03-20-18     1        |28 0001 1776996691/200  NOT DELIVERED |                               |', '|         |              |                                  |28 0001 1777007557/200  NOT DELIVERED |                               |', '|         |              |                                  |28 0001 1777050459/200  NOT DELIVERED |                               |', '|         |              |                                  |28 0001 1777068402/200  NOT DELIVERED |                               |']\n",
      "['| 210     |  |  556825|Toothed b. axis EGC-HD-220-    -TB      |     |   |O2  1374141628   ERO |KC             |01|  |  |00|00|000 |', '|   21    |000000000000556825                         |0015     |300|                                                              |', '|         |02-19-18     1|2018454054  03-20-18     1        |28 0001 1776996691/210  NOT DELIVERED |                               |', '|         |              |                                  |28 0001 1777007557/210  NOT DELIVERED |                               |', '|         |              |                                  |28 0001 1777050459/210  NOT DELIVERED |                               |', '|         |              |                                  |28 0001 1777068402/210  NOT DELIVERED |                               |']\n",
      "['| 220     |  |  556825|Toothed b. axis EGC-HD-220-    -TB      |     |   |O2  1374141635   ERO |KC             |01|  |  |00|00|000 |', '|   22    |000000000000556825                         |0015     |300|                                                              |', '|         |02-19-18     2|2018454054  03-20-18     2        |28 0001 1776996691/220  NOT DELIVERED |                               |', '|         |              |                                  |28 0001 1777007557/220  NOT DELIVERED |                               |', '|         |              |                                  |28 0001 1777050459/220  NOT DELIVERED |                               |', '|         |              |                                  |28 0001 1777068402/220  NOT DELIVERED |                               |']\n",
      "['| 230     |  |  556825|Toothed b. axis EGC-HD-220-    -TB      |     |   |O2  1374141642   ERO |KC             |01|  |  |00|00|000 |', '|   23    |000000000000556825                         |0015     |300|                                                              |', '|         |02-19-18     1|2018454054  03-20-18     1        |28 0001 1776996691/230  NOT DELIVERED |                               |', '|         |              |                                  |28 0001 1777007557/230  NOT DELIVERED |                               |', '|         |              |                                  |28 0001 1777050459/230  NOT DELIVERED |                               |', '|         |              |                                  |28 0001 1777068402/230  NOT DELIVERED |                               |']\n",
      "['| 240     |  |  556825|Toothed b. axis EGC-HD-220-    -TB      |     |   |O2  1374141648   ERO |KC             |01|  |  |00|00|000 |', '|   24    |000000000000556825                         |0015     |300|                                                              |', '|         |02-19-18     1|2018454054  03-20-18     1        |28 0001 1776996691/240  NOT DELIVERED |                               |', '|         |              |                                  |28 0001 1777007557/240  NOT DELIVERED |                               |', '|         |              |                                  |28 0001 1777050459/240  NOT DELIVERED |                               |', '|         |              |                                  |28 0001 1777068402/240  NOT DELIVERED |                               |']\n",
      "['| 250     |  |  556825|Toothed b. axis EGC-HD-220-    -TB      |     |   |O2  1374141655   ERO |KC             |01|  |  |00|00|000 |', '|   25    |000000000000556825                         |0015     |300|                                                              |', '|         |02-19-18     1|2018454054  03-20-18     1        |28 0001 1776996691/250  NOT DELIVERED |                               |', '|         |              |                                  |28 0001 1777007557/250  NOT DELIVERED |                               |', '|         |              |                                  |28 0001 1777050459/250  NOT DELIVERED |                               |', '|         |              |                                  |28 0001 1777068402/250  NOT DELIVERED |                               |']\n",
      "['| 260     |  |  556825|Toothed b. axis EGC-HD-220-    -TB      |     |   |O2  1374141662   ERO |KC             |01|  |  |00|00|000 |', '|   26    |000000000000556825                         |0015     |300|                                                              |', '|         |02-19-18     1|2018454054  03-20-18     1        |28 0001 1776996691/260  NOT DELIVERED |                               |', '|         |              |                                  |28 0001 1777007557/260  NOT DELIVERED |                               |', '|         |              |                                  |28 0001 1777050459/260  NOT DELIVERED |                               |', '|         |              |                                  |28 0001 1777068402/260  NOT DELIVERED |                               |']\n",
      "['| 270     |  |  556825|Toothed b. axis EGC-HD-220-    -TB      |     |   |O2  1374141708   ERO |KC             |01|  |  |00|00|000 |', '|   27    |000000000000556825                         |0015     |300|                                                              |', '|         |02-19-18     1|2018454054  03-20-18     1        |28 0001 1776996691/270  NOT DELIVERED |                               |', '|         |              |                                  |28 0001 1777007557/270  NOT DELIVERED |                               |', '|         |              |                                  |28 0001 1777050459/270  NOT DELIVERED |                               |', '|         |              |                                  |28 0001 1777068402/270  NOT DELIVERED |                               |']\n",
      "['| 280     |  |  574100|electric drive  ESBF-BS-63-100-25P      |     |   |                     |CF             |01|  |  |00|00|000 |', '|   28    |000000000000574100                         |0015     |300|                                                              |', '|         |03-02-18     2|2018454054  03-02-18     2        |28 0001 1776667539/280  02-23-18     2|  20898555/150  02-23-18     2 |']\n",
      "['| 290     |  |  574102|electric drive  ESBF-BS-63-300-25P      |     |   |                     |CF             |01|  |  |00|00|000 |', '|   29    |000000000000574102                         |0015     |300|                                                              |', '|         |03-02-18    21|2018454054  03-02-18    10      M2|28 0001 1776667539/290  02-23-18    10|  20898555/160  02-23-18    10 |', '|         |              |2018454054  03-16-18    11        |28 0001 1777000816/290  03-13-18    11|  20908611/160  03-13-18    11 |']\n",
      "['| 300     |  |  574114|electric drive  ESBF-BS-80-400-32P      |     |   |                     |C              |01|  |  |00|00|000 |', '|   30    |000000000000574114                         |0015     |300|                                                              |', '|         |03-02-18     1|2018454054  03-02-18     1        |28 0001 1776667539/300  02-23-18     1|  20898555/170  02-23-18     1 |']\n"
     ]
    }
   ],
   "source": [
    "items=[]\n",
    "item=[]\n",
    "toggle=False\n",
    "\n",
    "with open('text.txt',\"r\", encoding=\"UTF-8\") as file:\n",
    "    line=file.readline()\n",
    "    while line.find('*****')<0:\n",
    "        line=file.readline()\n",
    "        if line[0]=='-' and toggle==False:\n",
    "            toggle=True\n",
    "            continue\n",
    "    \n",
    "        if toggle==True:\n",
    "            if line[0]=='|' : \n",
    "                item.append(line[:-1])\n",
    "#                 item.append(list(map(str.strip, line[:-1].split(\"|\"))))\n",
    "                continue\n",
    "            \n",
    "            if line[0]=='-' :\n",
    "                #toggle=False\n",
    "                if len(item)>0 : \n",
    "                    items.append(item)\n",
    "                    print(item)\n",
    "                    item=[]\n",
    "                continue\n",
    "            else :\n",
    "                toggle=False\n",
    "                continue"
   ]
  },
  {
   "cell_type": "code",
   "execution_count": 5,
   "metadata": {},
   "outputs": [
    {
     "data": {
      "text/plain": [
       "31"
      ]
     },
     "execution_count": 5,
     "metadata": {},
     "output_type": "execute_result"
    }
   ],
   "source": [
    "len(items)"
   ]
  },
  {
   "cell_type": "code",
   "execution_count": 10,
   "metadata": {},
   "outputs": [
    {
     "name": "stdout",
     "output_type": "stream",
     "text": [
      "0 \t 2\n",
      "1 \t 3\n",
      "2 \t 3\n",
      "3 \t 9\n",
      "4 \t 4\n",
      "5 \t 6\n",
      "6 \t 9\n",
      "7 \t 9\n",
      "8 \t 8\n",
      "9 \t 5\n",
      "10 \t 8\n",
      "11 \t 8\n",
      "12 \t 7\n",
      "13 \t 8\n",
      "14 \t 3\n",
      "15 \t 3\n",
      "16 \t 9\n",
      "17 \t 5\n",
      "18 \t 6\n",
      "19 \t 6\n",
      "20 \t 6\n",
      "21 \t 6\n",
      "22 \t 6\n",
      "23 \t 6\n",
      "24 \t 6\n",
      "25 \t 6\n",
      "26 \t 6\n",
      "27 \t 6\n",
      "28 \t 3\n",
      "29 \t 4\n",
      "30 \t 3\n"
     ]
    }
   ],
   "source": []
  },
  {
   "cell_type": "code",
   "execution_count": 11,
   "metadata": {
    "scrolled": false
   },
   "outputs": [
    {
     "name": "stdout",
     "output_type": "stream",
     "text": [
      "----------|Req.     Quant|Order                Quant DeB Cat|SC ShPo Del.note                 Quant|Invoice                        |\n",
      "\n",
      "          |Ident-code              |ESBF-BS-63-150-25P                                                            |\n",
      "\n",
      "          |Ident-code              |ELGA-TB-KF-150-2900-0H                                                        |\n",
      "\n",
      "          |Ident-code              |EGC-120-220-BS-25P-KF-0H-MR-GP                                                |\n",
      "\n",
      "          |Ident-code              |EGC-120-940-TB-KF-0H-GP                                                       |\n",
      "\n",
      "          |Ident-code              |EGC-120-1440-TB-KF-0H-GP                                                      |\n",
      "\n",
      "          |Ident-code              |EGC-120-1540-TB-KF-0H-GP                                                      |\n",
      "\n",
      "          |Ident-code              |EGC-120-1040-TB-KF-0H-GP                                                      |\n",
      "\n",
      "          |Ident-code              |EGC-120-2040-TB-KF-0H-GP                                                      |\n",
      "\n",
      "          |Ident-code              |EGC-120-1540-TB-KF-0H-GP                                                      |\n",
      "\n",
      "          |Ident-code              |EGC-120-2440-TB-KF-0H-GP-KL                                                   |\n",
      "\n",
      "          |Ident-code              |EGC-120-2120-TB-KF-0H-GP-KL-KR                                                |\n",
      "\n",
      "          |Ident-code              |EGC-120-1200-TB-KF-0H-GP                                                      |\n",
      "\n",
      "          |Ident-code              |EGC-120-1600-TB-KF-0H-GP                                                      |\n",
      "\n",
      "          |Ident-code              |EGC-HD-160-400-BS-20P-0H-GP                                                   |\n",
      "\n",
      "          |Ident-code              |EGC-HD-220-400-BS-25P-0H-GP                                                   |\n",
      "\n",
      "          |Ident-code              |EGC-HD-220-350-BS-25P-0H-GP                                                   |\n",
      "\n",
      "          |Ident-code              |EGC-HD-220-1100-TB-0H-GP                                                      |\n",
      "\n",
      "          |Ident-code              |EGC-HD-220-1200-TB-0H-GP                                                      |\n",
      "\n",
      "          |Ident-code              |EGC-HD-220-1400-TB-0H-GP                                                      |\n",
      "\n",
      "          |Ident-code              |EGC-HD-220-1840-TB-0H-GP                                                      |\n",
      "\n",
      "          |Ident-code              |EGC-HD-220-2000-TB-0H-GP                                                      |\n",
      "\n",
      "          |Ident-code              |EGC-HD-220-2000-TB-0H-GP-KL                                                   |\n",
      "\n",
      "          |Ident-code              |EGC-HD-220-2200-TB-0H-GP                                                      |\n",
      "\n",
      "          |Ident-code              |EGC-HD-220-2740-TB-0H-GP-KL                                                   |\n",
      "\n",
      "          |Ident-code              |EGC-HD-220-540-TB-0H-GP                                                       |\n",
      "\n",
      "          |Ident-code              |EGC-HD-220-900-TB-0H-GP                                                       |\n",
      "\n",
      "          |Ident-code              |EGC-HD-220-940-TB-0H-GP                                                       |\n",
      "\n",
      "          |Ident-code              |ESBF-BS-63-100-25P                                                            |\n",
      "\n",
      "          |Ident-code              |ESBF-BS-63-300-25P                                                            |\n",
      "\n",
      "          |Ident-code              |ESBF-BS-80-400-32P                                                            |\n",
      "\n"
     ]
    }
   ],
   "source": [
    "items=[]\n",
    "item=[]\n",
    "toggle=False\n",
    "\n",
    "with open('text.txt',\"r\", encoding=\"UTF-8\") as file:\n",
    "    line=file.readline()\n",
    "    while line.find('*****')<0:\n",
    "        line=file.readline()\n",
    "        if line[0]=='-' and toggle==False:\n",
    "            toggle=True\n",
    "            continue\n",
    "    \n",
    "        if toggle==True:\n",
    "            if line[0]=='|' : \n",
    "                item.append(list(map(str.strip, line[:-1].split(\"|\"))))\n",
    "                continue\n",
    "            \n",
    "            if line.count('Ident-code') or line.count('Req.'):    \n",
    "                print(line)\n",
    "                item.append(list(map(str.strip, line[:-1].split(\"|\"))))\n",
    "                items.append(item)\n",
    "                toggle=False\n",
    "                item=[]\n",
    "                continue"
   ]
  },
  {
   "cell_type": "code",
   "execution_count": 15,
   "metadata": {
    "scrolled": true
   },
   "outputs": [
    {
     "name": "stdout",
     "output_type": "stream",
     "text": [
      "0 \t 3 \t 0 \t 3\n",
      "1 \t 4 \t 0 \t 4\n",
      "2 \t 4 \t 0 \t 4\n",
      "3 \t 10 \t 6 \t 4\n",
      "4 \t 5 \t 1 \t 4\n",
      "5 \t 7 \t 3 \t 4\n",
      "6 \t 10 \t 6 \t 4\n",
      "7 \t 10 \t 6 \t 4\n",
      "8 \t 9 \t 6 \t 3\n",
      "9 \t 6 \t 2 \t 4\n",
      "10 \t 9 \t 6 \t 3\n",
      "11 \t 9 \t 6 \t 3\n",
      "12 \t 8 \t 4 \t 4\n",
      "13 \t 9 \t 5 \t 4\n",
      "14 \t 4 \t 0 \t 4\n",
      "15 \t 4 \t 0 \t 4\n",
      "16 \t 10 \t 6 \t 4\n",
      "17 \t 6 \t 2 \t 4\n",
      "18 \t 7 \t 4 \t 3\n",
      "19 \t 7 \t 4 \t 3\n",
      "20 \t 7 \t 4 \t 3\n",
      "21 \t 7 \t 4 \t 3\n",
      "22 \t 7 \t 4 \t 3\n",
      "23 \t 7 \t 4 \t 3\n",
      "24 \t 7 \t 4 \t 3\n",
      "25 \t 7 \t 4 \t 3\n",
      "26 \t 7 \t 4 \t 3\n",
      "27 \t 7 \t 4 \t 3\n",
      "28 \t 4 \t 0 \t 4\n",
      "29 \t 5 \t 0 \t 5\n",
      "30 \t 4 \t 0 \t 4\n"
     ]
    }
   ],
   "source": [
    "for i in range(len(items)):\n",
    "    N=str(items[i]).count(\"NOT DELIVERED\")\n",
    "    I = len(items[i])\n",
    "    J=I-N\n",
    "    print(i, '\\t', I, '\\t', N, '\\t', I-N )\n",
    "\n",
    "    \n",
    "#3 - No answer\n",
    "#4 - Stored or answer\n",
    "#>4 Partial Delivery"
   ]
  },
  {
   "cell_type": "code",
   "execution_count": 20,
   "metadata": {
    "scrolled": true
   },
   "outputs": [
    {
     "ename": "SyntaxError",
     "evalue": "invalid syntax (<ipython-input-20-be7cb130c4a8>, line 58)",
     "output_type": "error",
     "traceback": [
      "\u001b[1;36m  File \u001b[1;32m\"<ipython-input-20-be7cb130c4a8>\"\u001b[1;36m, line \u001b[1;32m58\u001b[0m\n\u001b[1;33m    DF[col, index=\"itemno\"]\u001b[0m\n\u001b[1;37m                 ^\u001b[0m\n\u001b[1;31mSyntaxError\u001b[0m\u001b[1;31m:\u001b[0m invalid syntax\n"
     ]
    }
   ],
   "source": [
    "df=[]\n",
    "for i in range(1,len(items)) :\n",
    "    part={}\n",
    "    part['partno']=items[i][0][3]\n",
    "    part['firstcfdate']=datetime.datetime.strptime(items[i][2][3].split()[1],  \"%m-%d-%y\")\n",
    "    part['qty']=items[i][2][2].split()[1]\n",
    "    part['so']=items[i][2][3].split()[0] \n",
    "    part['itemno'] = items[i][0][1]\n",
    "    part['idx'] = items[i][2][3].split()[0]  + items[i][0][1]\n",
    "\n",
    "    \n",
    "    N=str(items[i]).count(\"NOT DELIVERED\") #NOT DELIVERED _COUNT\n",
    "    I = len(items[i]) # TOTAL ROW NUM\n",
    "    J=I-N \n",
    "    if J==3 :\n",
    "        remark = \"NOT FIXED\"\n",
    "    if J==4:\n",
    "        remark = \"ANSWER\"\n",
    "    if J>4 :\n",
    "        remark = \"PARTIAL DELIVERY\"\n",
    "    \n",
    "    part['remark'] = remark\n",
    "    \n",
    "    #status\n",
    "    status = items[i][0][7]\n",
    "    if status !='' :\n",
    "        part['status']=status.split()[2] \n",
    "    \n",
    "    dn=items[i][-2][4]\n",
    "    part['dn']=dn\n",
    "    \n",
    "    #INDENT-CODE\n",
    "    code=items[i][-1][2]\n",
    "    part['code'] = code\n",
    "    \n",
    "    #INVOICE\n",
    "    invoice = items[i][-2][5]\n",
    "    \n",
    "    if invoice !='':\n",
    "        part['iv']=invoice\n",
    "        part['ivdate']=datetime.datetime.strptime(invoice.split()[1],  \"%m-%d-%y\")\n",
    "        part['ivqty']=invoice.split()[2]\n",
    "        part['etd']=part['ivdate'] + datetime.timedelta(days=7)\n",
    "        \n",
    "    else :\n",
    "        part['etd'] = part['firstcfdate'] \n",
    "        \n",
    "    if dn.count('stored') :\n",
    "        print(dn)\n",
    "        part['etd']=dn.split()[5]\n",
    "\n",
    "    df.append(part)\n",
    "    \n",
    "    \n",
    "    \n",
    "DF=pd.DataFrame(df)\n",
    "col=[\"so\", \"code\",\"qty\", \"status\", \"firstcfdate\",\"ivdate\", \"ivqty\", 'etd', 'dn','iv']\n",
    "col=[\"so\", 'itemno', \"qty\", \"status\", \"firstcfdate\",\"ivdate\", \"ivqty\", 'etd', 'remark']\n",
    "DF[col]"
   ]
  },
  {
   "cell_type": "code",
   "execution_count": null,
   "metadata": {},
   "outputs": [],
   "source": [
    "items[29][2][2]\n"
   ]
  },
  {
   "cell_type": "code",
   "execution_count": null,
   "metadata": {},
   "outputs": [],
   "source": [
    "dn"
   ]
  },
  {
   "cell_type": "code",
   "execution_count": null,
   "metadata": {
    "scrolled": false
   },
   "outputs": [],
   "source": [
    "toggle=False\n",
    "items=[]\n",
    "\n",
    "item={}\n",
    "\n",
    "with open('text.txt',\"r\", encoding=\"UTF-8\") as file:\n",
    "    line=file.readline()\n",
    "    if toggle:\n",
    "        print (\"toggle is on\")\n",
    "    while line!='':\n",
    "        line=file.readline()\n",
    "        #item no extraction\n",
    "        if line.count(\"|\") > 9:\n",
    "                items.append(item)\n",
    "                item={}\n",
    "                item['itemno'] = line.split()[1]\n",
    "                #print(item)\n",
    "\n",
    "        if line.find(SO)!=-1 and line.find('Seite')==-1: \n",
    "                l=line.split()[1][1:]\n",
    "                print(\"line\", l)\n",
    "                print(len(l))\n",
    "                item['deliverydate']=l[1][1:]\n",
    "                if len(l)==14 : \n",
    "                    item['delivernote']=l[7]\n",
    "                    item['dnissued']=l[8]\n",
    "                    item['invoice#']=l[10]\n",
    "                    item['invoicedate']=l[11]\n",
    "                    print(item)\n",
    "        if line.find(\"NOT DELIVERED\"):\n",
    "                    toggle = True\n",
    "                    continue\n",
    "       \n",
    "        \n",
    "        \n",
    "        if line.find(\"Ident-code\"): \n",
    "                item['code']=line.split()\n",
    "                    \n",
    "            \n"
   ]
  },
  {
   "cell_type": "code",
   "execution_count": null,
   "metadata": {
    "scrolled": true
   },
   "outputs": [],
   "source": [
    "item=[]\n",
    "items=[]\n",
    "\n",
    "item={}\n",
    "\n",
    "\n",
    "for idx, line in enumerate(lines[24:]):\n",
    "    #item no extraction\n",
    "    if line.count(\"|\") > 9:\n",
    "            items.append(item)\n",
    "            item={}\n",
    "            item['itemno'] = line.split()[1]\n",
    "            #print(item)\n",
    "            \n",
    "    if line.find(\"Ident-code\"): \n",
    "        print(line.split())\n",
    "#             item['code']=line.split()[1][1:]\n",
    "            \n",
    "    if line.find(SO)!=-1 and line.find('Seite')==-1: \n",
    "            l=line.split()[1][1:]\n",
    "            #print(l)\n",
    "            #print(len(l))\n",
    "            item['deliverydate']=l[1][1:]\n",
    "            if len(l)==14 : \n",
    "                item['delivernote']=l[7]\n",
    "                item['dnissued']=l[8]\n",
    "                item['invoice#']=l[10]\n",
    "                item['invoicedate']=l[11]\n",
    "                #print(item)\n",
    "            \n",
    "\n",
    "\n"
   ]
  },
  {
   "cell_type": "code",
   "execution_count": null,
   "metadata": {},
   "outputs": [],
   "source": [
    "items[2]"
   ]
  },
  {
   "cell_type": "code",
   "execution_count": null,
   "metadata": {},
   "outputs": [],
   "source": [
    "items"
   ]
  },
  {
   "cell_type": "code",
   "execution_count": null,
   "metadata": {
    "scrolled": true
   },
   "outputs": [],
   "source": [
    "for i in range(6):\n",
    "    f.readline()\n",
    "\n",
    "line=f.readline().split()\n",
    "SO=line[5]\n",
    "\n",
    "for "
   ]
  },
  {
   "cell_type": "code",
   "execution_count": null,
   "metadata": {},
   "outputs": [],
   "source": [
    "SO"
   ]
  },
  {
   "cell_type": "code",
   "execution_count": null,
   "metadata": {},
   "outputs": [],
   "source": [
    "print(f.readline())"
   ]
  },
  {
   "cell_type": "code",
   "execution_count": null,
   "metadata": {},
   "outputs": [],
   "source": [
    "#Read Excel file \n",
    "exl=pd.read_excel('Book1.xlsx', converters={'item#':str,'part#':str, 'deliverydate':pd.to_datetime})\n",
    "#https://stackoverflow.com/questions/32591466/python-pandas-how-to-specify-data-types-when-reading-an-excel-file"
   ]
  },
  {
   "cell_type": "code",
   "execution_count": null,
   "metadata": {},
   "outputs": [],
   "source": [
    "lines= f.readlines()"
   ]
  },
  {
   "cell_type": "code",
   "execution_count": null,
   "metadata": {},
   "outputs": [],
   "source": [
    "parse_flag=False\n",
    "total=[]\n",
    "\n",
    "for i in lines:\n",
    "    if i[0]=='-':\n",
    "        parse_flag=True\n",
    "        continue\n",
    "    if parse_flag==True and i[0]=='|':\n",
    "        \n",
    "        line=i.split()\n",
    "        item=line[1];  so=line[2];\n",
    "        newdate=datetime.datetime.strptime(line[3],  \"%Y-%m-%d\")\n",
    "       \n",
    "        delta=(newdate-datetime.datetime.now()).days\n",
    "        \n",
    "        single=[item, so, newdate, delta]\n",
    "        total.append(single)\n",
    "        parse_flag=False\n",
    "    \n",
    "df=pd.DataFrame(total)"
   ]
  },
  {
   "cell_type": "code",
   "execution_count": null,
   "metadata": {},
   "outputs": [],
   "source": [
    "#ID created for comparision and merge\n",
    "df['id']=df[1] + df[0]\n",
    "exl['id']=exl['part#'] + exl['item#']"
   ]
  },
  {
   "cell_type": "code",
   "execution_count": null,
   "metadata": {},
   "outputs": [],
   "source": [
    "kk=df.merge(exl)"
   ]
  },
  {
   "cell_type": "code",
   "execution_count": null,
   "metadata": {
    "scrolled": true
   },
   "outputs": [],
   "source": [
    "kk['delta']=kk['deliverydate'] - kk[2]"
   ]
  },
  {
   "cell_type": "code",
   "execution_count": null,
   "metadata": {},
   "outputs": [],
   "source": [
    "#To save excel file \n",
    "writer=pd.ExcelWriter('output.xlsx')\n",
    "kk.to_excel(writer,'Sheet1')\n",
    "writer.save()"
   ]
  },
  {
   "cell_type": "code",
   "execution_count": null,
   "metadata": {},
   "outputs": [],
   "source": []
  }
 ],
 "metadata": {
  "kernelspec": {
   "display_name": "Python 3",
   "language": "python",
   "name": "python3"
  },
  "language_info": {
   "codemirror_mode": {
    "name": "ipython",
    "version": 3
   },
   "file_extension": ".py",
   "mimetype": "text/x-python",
   "name": "python",
   "nbconvert_exporter": "python",
   "pygments_lexer": "ipython3",
   "version": "3.6.4"
  }
 },
 "nbformat": 4,
 "nbformat_minor": 2
}
